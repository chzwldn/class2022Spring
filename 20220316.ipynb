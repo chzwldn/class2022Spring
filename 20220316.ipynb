{
  "nbformat": 4,
  "nbformat_minor": 0,
  "metadata": {
    "colab": {
      "name": "20220316.ipynb",
      "provenance": [],
      "collapsed_sections": [],
      "authorship_tag": "ABX9TyMOxNAa2Pru4YQpe9mL8Dh1",
      "include_colab_link": true
    },
    "kernelspec": {
      "name": "python3",
      "display_name": "Python 3"
    },
    "language_info": {
      "name": "python"
    }
  },
  "cells": [
    {
      "cell_type": "markdown",
      "metadata": {
        "id": "view-in-github",
        "colab_type": "text"
      },
      "source": [
        "<a href=\"https://colab.research.google.com/github/chzwldn/class2022Spring/blob/main/20220316.ipynb\" target=\"_parent\"><img src=\"https://colab.research.google.com/assets/colab-badge.svg\" alt=\"Open In Colab\"/></a>"
      ]
    },
    {
      "cell_type": "markdown",
      "source": [
        "코딩 요소\n",
        "1. 변수(variables)\n",
        "2. 문법(syntax)\n",
        "3. 함수(function)\n",
        "4. 패키지(package, library)"
      ],
      "metadata": {
        "id": "F6NdaQXUC9W8"
      }
    },
    {
      "cell_type": "markdown",
      "source": [
        "**<변수>**\n",
        "1. 변수의 종류\n",
        ": number, string, list(여러 개의 문자, 숫자), turple(list와 유사하나 괄호가 다르고, 내부 요소 수정 불가), dict\n",
        "\n",
        "print(a): variable 내용\n",
        "print(type(a)): variable 종류"
      ],
      "metadata": {
        "id": "SFwKyV5JDKqf"
      }
    },
    {
      "cell_type": "code",
      "source": [
        "a = 1; print(a)"
      ],
      "metadata": {
        "colab": {
          "base_uri": "https://localhost:8080/"
        },
        "id": "Lkg8WIoSDs_E",
        "outputId": "34d876ef-ea95-42fc-a30e-8cce4f9ed252"
      },
      "execution_count": null,
      "outputs": [
        {
          "output_type": "stream",
          "name": "stdout",
          "text": [
            "1\n"
          ]
        }
      ]
    },
    {
      "cell_type": "code",
      "source": [
        "a = 1; print(type(a))"
      ],
      "metadata": {
        "colab": {
          "base_uri": "https://localhost:8080/"
        },
        "id": "u9uPI-buDwou",
        "outputId": "e47009ad-6c71-425b-947b-7e23554682f6"
      },
      "execution_count": null,
      "outputs": [
        {
          "output_type": "stream",
          "name": "stdout",
          "text": [
            "<class 'int'>\n"
          ]
        }
      ]
    },
    {
      "cell_type": "code",
      "source": [
        "b = 1.1; print(type(b))"
      ],
      "metadata": {
        "colab": {
          "base_uri": "https://localhost:8080/"
        },
        "id": "2srGeE1DD_jL",
        "outputId": "4f6b54dc-e775-4acb-9922-b10e1e16f1d8"
      },
      "execution_count": null,
      "outputs": [
        {
          "output_type": "stream",
          "name": "stdout",
          "text": [
            "<class 'float'>\n"
          ]
        }
      ]
    },
    {
      "cell_type": "markdown",
      "source": [
        "''또는 \"\" 사용: String 생성"
      ],
      "metadata": {
        "id": "bbQzULJPELsn"
      }
    },
    {
      "cell_type": "code",
      "source": [
        "a = '123'; print(type(a))"
      ],
      "metadata": {
        "colab": {
          "base_uri": "https://localhost:8080/"
        },
        "id": "H1UOGi-WEF5C",
        "outputId": "d6cc846d-c05a-4993-a4de-ce74a24d40fd"
      },
      "execution_count": null,
      "outputs": [
        {
          "output_type": "stream",
          "name": "stdout",
          "text": [
            "<class 'str'>\n"
          ]
        }
      ]
    },
    {
      "cell_type": "code",
      "source": [
        "a = 'hello'; print(type(a))"
      ],
      "metadata": {
        "colab": {
          "base_uri": "https://localhost:8080/"
        },
        "id": "sdGiRt7QEIKR",
        "outputId": "63e4ec08-93d0-4459-af36-7c603532852f"
      },
      "execution_count": null,
      "outputs": [
        {
          "output_type": "stream",
          "name": "stdout",
          "text": [
            "<class 'str'>\n"
          ]
        }
      ]
    },
    {
      "cell_type": "markdown",
      "source": [
        "**List**\n",
        "\n",
        "여러 개의 문자나 숫자를 담을 때 사용, 대괄호 [] 안에 콤마 ','를 사용해서 구분하며 list 안에 list를 넣을 수 있다"
      ],
      "metadata": {
        "id": "Z5SQRh4rERCE"
      }
    },
    {
      "cell_type": "code",
      "source": [
        "a = [1, 2, 3, 4]; print(type(a))"
      ],
      "metadata": {
        "colab": {
          "base_uri": "https://localhost:8080/"
        },
        "id": "Ive6UXU8Eknv",
        "outputId": "25c9680c-3ace-4acd-a98d-f319d6c46e4b"
      },
      "execution_count": null,
      "outputs": [
        {
          "output_type": "stream",
          "name": "stdout",
          "text": [
            "<class 'list'>\n"
          ]
        }
      ]
    },
    {
      "cell_type": "code",
      "source": [
        "a = [1, 'a', [3, '4']]; print(type(a))"
      ],
      "metadata": {
        "colab": {
          "base_uri": "https://localhost:8080/"
        },
        "id": "aznTOyhxErRF",
        "outputId": "db4d4418-82a5-4702-e0ee-36378f06a0fd"
      },
      "execution_count": null,
      "outputs": [
        {
          "output_type": "stream",
          "name": "stdout",
          "text": [
            "<class 'list'>\n"
          ]
        }
      ]
    },
    {
      "cell_type": "markdown",
      "source": [
        ""
      ],
      "metadata": {
        "id": "g1LZM7_PE6bU"
      }
    },
    {
      "cell_type": "code",
      "source": [
        "a=[1, 2, 3, 4];a[0]"
      ],
      "metadata": {
        "colab": {
          "base_uri": "https://localhost:8080/"
        },
        "id": "hqXiPE2pFBcY",
        "outputId": "75397842-8849-4638-ef23-f5ba631cf4d4"
      },
      "execution_count": null,
      "outputs": [
        {
          "output_type": "execute_result",
          "data": {
            "text/plain": [
              "1"
            ]
          },
          "metadata": {},
          "execution_count": 8
        }
      ]
    },
    {
      "cell_type": "code",
      "source": [
        "a=[1, 2, 3, 4, 5, 6];a[2:5]"
      ],
      "metadata": {
        "colab": {
          "base_uri": "https://localhost:8080/"
        },
        "id": "m1rLd2mCFEca",
        "outputId": "0686f71e-e9cf-41fd-eb1f-7c635a8ab02d"
      },
      "execution_count": null,
      "outputs": [
        {
          "output_type": "execute_result",
          "data": {
            "text/plain": [
              "[3, 4, 5]"
            ]
          },
          "metadata": {},
          "execution_count": 9
        }
      ]
    },
    {
      "cell_type": "code",
      "source": [
        "a=[1, 2, 3, 4, 5, 6]; ㅁ[2:-1]"
      ],
      "metadata": {
        "colab": {
          "base_uri": "https://localhost:8080/"
        },
        "id": "VMx_lahEJPA7",
        "outputId": "7600b2cb-9df1-4090-9da1-b1d27c2afaad"
      },
      "execution_count": null,
      "outputs": [
        {
          "output_type": "execute_result",
          "data": {
            "text/plain": [
              "[3, 4, 5]"
            ]
          },
          "metadata": {},
          "execution_count": 10
        }
      ]
    },
    {
      "cell_type": "code",
      "source": [
        "a=[1, 'a', [3, '4']]; print(a[0]); print(a[1]); prifnt(a[2]);print(a[0:2]"
      ],
      "metadata": {
        "colab": {
          "base_uri": "https://localhost:8080/",
          "height": 171
        },
        "id": "PWLSSLn7JSw6",
        "outputId": "6fbd12ff-b13c-45e2-ff66-f9519ce071f1"
      },
      "execution_count": null,
      "outputs": [
        {
          "output_type": "error",
          "ename": "SyntaxError",
          "evalue": "ignored",
          "traceback": [
            "\u001b[0;36m  File \u001b[0;32m\"<ipython-input-11-34272144cdb3>\"\u001b[0;36m, line \u001b[0;32m1\u001b[0m\n\u001b[0;31m    a=[1, 'a', [3, '4']]; print(a[0]); print(a[1]); print(a[2]);print(a[0:2]\u001b[0m\n\u001b[0m                                                                            ^\u001b[0m\n\u001b[0;31mSyntaxError\u001b[0m\u001b[0;31m:\u001b[0m unexpected EOF while parsing\n"
          ]
        }
      ]
    },
    {
      "cell_type": "code",
      "source": [
        "a=[1, 'a', [3, '4']]\n",
        "a[2][0]"
      ],
      "metadata": {
        "colab": {
          "base_uri": "https://localhost:8080/"
        },
        "id": "rhZqjCY8JtK8",
        "outputId": "3e248520-7eff-47de-c30f-45beb5fb8c57"
      },
      "execution_count": null,
      "outputs": [
        {
          "output_type": "execute_result",
          "data": {
            "text/plain": [
              "3"
            ]
          },
          "metadata": {},
          "execution_count": 12
        }
      ]
    },
    {
      "cell_type": "code",
      "source": [
        "a='abcdef12345'\n",
        "a[2:5]"
      ],
      "metadata": {
        "colab": {
          "base_uri": "https://localhost:8080/",
          "height": 38
        },
        "id": "RO8Y8vqmKMOD",
        "outputId": "43084beb-d619-4785-e08e-bc88488c64a1"
      },
      "execution_count": null,
      "outputs": [
        {
          "output_type": "execute_result",
          "data": {
            "text/plain": [
              "'cde'"
            ],
            "application/vnd.google.colaboratory.intrinsic+json": {
              "type": "string"
            }
          },
          "metadata": {},
          "execution_count": 15
        }
      ]
    },
    {
      "cell_type": "markdown",
      "source": [
        "**Dict**\n",
        "\n",
        "중괄호, 콤마, 콜론 세 가지로 조합, '', \"\" 둘 다 사용 가능하며 연결 시 ; 사용"
      ],
      "metadata": {
        "id": "oeI9mu5DK5go"
      }
    },
    {
      "cell_type": "code",
      "source": [
        "a = {\"a\": \"apple\", \"b\": \"orange\", \"c\": 2014}\n",
        "print(type(a))\n",
        "print(a[\"a\"])"
      ],
      "metadata": {
        "colab": {
          "base_uri": "https://localhost:8080/"
        },
        "id": "tQ_L9vfuLHLR",
        "outputId": "9faa1f24-61f6-403e-cdca-1053ffae1b94"
      },
      "execution_count": null,
      "outputs": [
        {
          "output_type": "stream",
          "name": "stdout",
          "text": [
            "<class 'dict'>\n",
            "apple\n"
          ]
        }
      ]
    },
    {
      "cell_type": "code",
      "source": [
        "s = 'abcdef'\n",
        "print(s[0], s[5], s[-1], s[-6])\n",
        "print(s[1:3], s[1:], s[:3], s[:])"
      ],
      "metadata": {
        "colab": {
          "base_uri": "https://localhost:8080/"
        },
        "id": "igwXifFZLaE0",
        "outputId": "58279c63-772a-4473-f58a-ecb136f31796"
      },
      "execution_count": null,
      "outputs": [
        {
          "output_type": "stream",
          "name": "stdout",
          "text": [
            "a f f a\n",
            "bc bcdef abc abcdef\n"
          ]
        }
      ]
    },
    {
      "cell_type": "code",
      "source": [
        "n = [100, 200, 300]\n",
        "print(n[0], n[2], n[-1], n[-3])\n",
        "print(n[1:2], n[1:], n[:2], n[:])"
      ],
      "metadata": {
        "colab": {
          "base_uri": "https://localhost:8080/"
        },
        "id": "rcibJBsuL4gZ",
        "outputId": "f7f58ca0-f54e-461a-929e-633a94a7f445"
      },
      "execution_count": null,
      "outputs": [
        {
          "output_type": "stream",
          "name": "stdout",
          "text": [
            "100 300 300 100\n",
            "[200] [200, 300] [100, 200] [100, 200, 300]\n"
          ]
        }
      ]
    },
    {
      "cell_type": "markdown",
      "source": [
        "string은 더하기와 곱하기도 가능(더하기 +, 곱하기 *)"
      ],
      "metadata": {
        "id": "XhS3C6ipMLzG"
      }
    },
    {
      "cell_type": "code",
      "source": [
        "s[1]+s[3]+s[4:]*10"
      ],
      "metadata": {
        "colab": {
          "base_uri": "https://localhost:8080/",
          "height": 38
        },
        "id": "-JxvgOoyMPJE",
        "outputId": "45cee041-b6db-4b7d-e004-0d7fce616b63"
      },
      "execution_count": null,
      "outputs": [
        {
          "output_type": "execute_result",
          "data": {
            "text/plain": [
              "'bdefefefefefefefefefef'"
            ],
            "application/vnd.google.colaboratory.intrinsic+json": {
              "type": "string"
            }
          },
          "metadata": {},
          "execution_count": 21
        }
      ]
    },
    {
      "cell_type": "markdown",
      "source": [
        "**함수**\n",
        "\n",
        "input의 형태로 괄호 사용해야 함\n",
        "len(s): s의 길이 계산"
      ],
      "metadata": {
        "id": "vofGxNxBMY2q"
      }
    },
    {
      "cell_type": "code",
      "source": [
        "s = 'abcdef'\n",
        "len(s)"
      ],
      "metadata": {
        "colab": {
          "base_uri": "https://localhost:8080/"
        },
        "id": "Bhc3z1KdMgRU",
        "outputId": "3fbac292-4425-4f83-d948-a342895fb489"
      },
      "execution_count": null,
      "outputs": [
        {
          "output_type": "execute_result",
          "data": {
            "text/plain": [
              "6"
            ]
          },
          "metadata": {},
          "execution_count": 22
        }
      ]
    },
    {
      "cell_type": "markdown",
      "source": [
        "s.upper():대문자로 변경"
      ],
      "metadata": {
        "id": "PEuI4qKBMoD8"
      }
    },
    {
      "cell_type": "code",
      "source": [
        "s.upper()"
      ],
      "metadata": {
        "colab": {
          "base_uri": "https://localhost:8080/",
          "height": 38
        },
        "id": "WEfy3lE8Mi3L",
        "outputId": "5be31520-8aad-40e9-c872-3d2967e2fb13"
      },
      "execution_count": null,
      "outputs": [
        {
          "output_type": "execute_result",
          "data": {
            "text/plain": [
              "'ABCDEF'"
            ],
            "application/vnd.google.colaboratory.intrinsic+json": {
              "type": "string"
            }
          },
          "metadata": {},
          "execution_count": 23
        }
      ]
    },
    {
      "cell_type": "markdown",
      "source": [
        "s.find(): 입력한 값이 몇 번째에 위치했는지 계산"
      ],
      "metadata": {
        "id": "BXk5vT3xM32U"
      }
    },
    {
      "cell_type": "code",
      "source": [
        "s = 'this is a house built this year./n'\n",
        "result = s.find('house')\n",
        "result"
      ],
      "metadata": {
        "colab": {
          "base_uri": "https://localhost:8080/"
        },
        "id": "9JxAuut2MnF6",
        "outputId": "ab700b41-63bf-4fcf-84ff-8c075da18a68"
      },
      "execution_count": null,
      "outputs": [
        {
          "output_type": "execute_result",
          "data": {
            "text/plain": [
              "10"
            ]
          },
          "metadata": {},
          "execution_count": 24
        }
      ]
    },
    {
      "cell_type": "markdown",
      "source": [
        "s.strip(): 공백 제거"
      ],
      "metadata": {
        "id": "Xy2osbHJM_WF"
      }
    },
    {
      "cell_type": "code",
      "source": [
        "s = s.strip()\n",
        "s"
      ],
      "metadata": {
        "colab": {
          "base_uri": "https://localhost:8080/",
          "height": 38
        },
        "id": "B6CPaPHjNDJx",
        "outputId": "f3892b00-18bf-4d1f-fd09-173a40a87451"
      },
      "execution_count": null,
      "outputs": [
        {
          "output_type": "execute_result",
          "data": {
            "text/plain": [
              "'this is a house built this year./n'"
            ],
            "application/vnd.google.colaboratory.intrinsic+json": {
              "type": "string"
            }
          },
          "metadata": {},
          "execution_count": 25
        }
      ]
    },
    {
      "cell_type": "markdown",
      "source": [
        "tokens: 빈칸을 기준으로 ''안 단어들 분류"
      ],
      "metadata": {
        "id": "KY6vYjghNGnK"
      }
    },
    {
      "cell_type": "code",
      "source": [
        "tokens = s.split(' ')\n",
        "tokens"
      ],
      "metadata": {
        "colab": {
          "base_uri": "https://localhost:8080/"
        },
        "id": "BCXF2jqiNMUn",
        "outputId": "6bc5ef39-e5ce-490a-cef4-1ceb6c60efcc"
      },
      "execution_count": null,
      "outputs": [
        {
          "output_type": "execute_result",
          "data": {
            "text/plain": [
              "['this', 'is', 'a', 'house', 'built', 'this', 'year./n']"
            ]
          },
          "metadata": {},
          "execution_count": 27
        }
      ]
    },
    {
      "cell_type": "markdown",
      "source": [
        "join: tokens를 통해 나눈 단어들 원문장으로 복귀"
      ],
      "metadata": {
        "id": "ICuHSbMjNQxe"
      }
    },
    {
      "cell_type": "code",
      "source": [
        "s = ' '.join(tokens)\n",
        "s"
      ],
      "metadata": {
        "colab": {
          "base_uri": "https://localhost:8080/",
          "height": 38
        },
        "id": "BmXsSEBrNXKp",
        "outputId": "cc763012-dc0a-4372-a4e1-95ef9d98e109"
      },
      "execution_count": null,
      "outputs": [
        {
          "output_type": "execute_result",
          "data": {
            "text/plain": [
              "'this is a house built this year./n'"
            ],
            "application/vnd.google.colaboratory.intrinsic+json": {
              "type": "string"
            }
          },
          "metadata": {},
          "execution_count": 28
        }
      ]
    },
    {
      "cell_type": "markdown",
      "source": [
        "replace: 특정 아이템을 다른 아이템으로 교체"
      ],
      "metadata": {
        "id": "W4t9bEGsNaQL"
      }
    },
    {
      "cell_type": "code",
      "source": [
        "s = s.replace('this, that')\n",
        "s"
      ],
      "metadata": {
        "id": "yD0bHpNVNdyl"
      },
      "execution_count": null,
      "outputs": []
    },
    {
      "cell_type": "markdown",
      "source": [
        "**Function**\n",
        "\n",
        "def 함수이름 (입력변수 1, 입력변수 2)\n",
        "return 출력변수명 (여러 개 가능)"
      ],
      "metadata": {
        "id": "0RQoLVKVNk8L"
      }
    },
    {
      "cell_type": "code",
      "source": [
        "def add(a,b):\n",
        "  return a+b\n",
        "\n",
        "def subtract(a,b):\n",
        "  return a-b\n",
        "\n",
        "def multiply(a,b):\n",
        "  return a*b\n",
        "\n",
        "def divide(a,b):\n",
        "  return a/b"
      ],
      "metadata": {
        "id": "LHayhYMON2q-"
      },
      "execution_count": null,
      "outputs": []
    },
    {
      "cell_type": "code",
      "source": [
        "c = add(1,2); print(c)\n",
        "c = subtract(1,2); print(c)\n",
        "c = multiply(1,2); print(c)\n",
        "c = divide(1,2); print(c)"
      ],
      "metadata": {
        "colab": {
          "base_uri": "https://localhost:8080/"
        },
        "id": "9uN4VBYAOUKC",
        "outputId": "7f055389-19ca-49b8-a4db-233a70469d22"
      },
      "execution_count": null,
      "outputs": [
        {
          "output_type": "stream",
          "name": "stdout",
          "text": [
            "3\n",
            "-1\n",
            "2\n",
            "0.5\n"
          ]
        }
      ]
    },
    {
      "cell_type": "markdown",
      "source": [
        "**Syntax**\n",
        "\n",
        "반복문 for\n",
        "조건문 if\n",
        "for i in a: a 요소를 처음부터 받아서 i에 넣고 재생\n",
        "for 중첩 가능"
      ],
      "metadata": {
        "id": "U-n9GBpmOgPn"
      }
    },
    {
      "cell_type": "code",
      "source": [
        "a = [1, 2, 3, 4]\n",
        "for i in a:\n",
        "  print(i)"
      ],
      "metadata": {
        "colab": {
          "base_uri": "https://localhost:8080/"
        },
        "id": "RtCTyTsmOzH6",
        "outputId": "cf3de142-d67f-44ba-fb75-584a86b94f6a"
      },
      "execution_count": null,
      "outputs": [
        {
          "output_type": "stream",
          "name": "stdout",
          "text": [
            "1\n",
            "2\n",
            "3\n",
            "4\n"
          ]
        }
      ]
    },
    {
      "cell_type": "code",
      "source": [
        "a = [1, 2, 3, 4]\n",
        "for i in range(4):\n",
        "  print(a[i])"
      ],
      "metadata": {
        "colab": {
          "base_uri": "https://localhost:8080/"
        },
        "id": "CJ4DFwjyO4u8",
        "outputId": "42a85c71-d131-4bc3-be48-4a3a0418d3d2"
      },
      "execution_count": null,
      "outputs": [
        {
          "output_type": "stream",
          "name": "stdout",
          "text": [
            "1\n",
            "2\n",
            "3\n",
            "4\n"
          ]
        }
      ]
    },
    {
      "cell_type": "markdown",
      "source": [
        "list에 string 들어갈 수 있다"
      ],
      "metadata": {
        "id": "TZLUnlfDPE1Z"
      }
    },
    {
      "cell_type": "code",
      "source": [
        "a = ['red', 'green', 'blue', 'purple']\n",
        "for i in range(len(a)):\n",
        "  print(a[i])"
      ],
      "metadata": {
        "colab": {
          "base_uri": "https://localhost:8080/"
        },
        "id": "Fp-3X3e4PLGX",
        "outputId": "85a81260-2514-480e-ba04-b207412ead02"
      },
      "execution_count": null,
      "outputs": [
        {
          "output_type": "stream",
          "name": "stdout",
          "text": [
            "red\n",
            "green\n",
            "blue\n",
            "purple\n"
          ]
        }
      ]
    },
    {
      "cell_type": "markdown",
      "source": [
        "조건문 if\n",
        "\n",
        "==:맞다면, 같다면\n",
        "\n",
        "!=: 아니라면, 다르다면\n",
        "\n",
        "else: 그렇지 않다면"
      ],
      "metadata": {
        "id": "zORkcLdfPZZ7"
      }
    },
    {
      "cell_type": "code",
      "source": [
        "a = 0\n",
        "if a == 0:\n",
        "  print(a)"
      ],
      "metadata": {
        "colab": {
          "base_uri": "https://localhost:8080/"
        },
        "id": "66fQkzf6PkLJ",
        "outputId": "e1fb9913-799d-49ba-86e0-7bd4f52597a1"
      },
      "execution_count": null,
      "outputs": [
        {
          "output_type": "stream",
          "name": "stdout",
          "text": [
            "0\n"
          ]
        }
      ]
    },
    {
      "cell_type": "code",
      "source": [
        "a = 0\n",
        "if a == 0:\n",
        "  print(a)\n",
        "else:\n",
        "  print(a+1)"
      ],
      "metadata": {
        "colab": {
          "base_uri": "https://localhost:8080/"
        },
        "id": "XNUTPTxcRTAq",
        "outputId": "66b1b0d7-adac-4d00-cd16-93a89979a2e4"
      },
      "execution_count": null,
      "outputs": [
        {
          "output_type": "stream",
          "name": "stdout",
          "text": [
            "0\n"
          ]
        }
      ]
    },
    {
      "cell_type": "markdown",
      "source": [
        "**Import**\n",
        "\n",
        "타인이 배포한 패키지 불러오는 것\n",
        "\n",
        "Install(창고 재료를 도마로), Install(창고에도 재료가 없어서 다른 곳에서), Built-in(항상 주방에 있는 재료)"
      ],
      "metadata": {
        "id": "obZ2N4iAbBJ9"
      }
    },
    {
      "cell_type": "code",
      "source": [
        "import numpy as np\n",
        "n = np.random.randn(100)"
      ],
      "metadata": {
        "id": "RSstU0irSUhy"
      },
      "execution_count": null,
      "outputs": []
    },
    {
      "cell_type": "code",
      "source": [
        "import matplotlib\n",
        "matplotlib.pyplot.hist(n)"
      ],
      "metadata": {
        "colab": {
          "base_uri": "https://localhost:8080/",
          "height": 355
        },
        "id": "Op0fPZ3zSUpk",
        "outputId": "5de97956-b36a-4c7d-98e0-286c2b0caa89"
      },
      "execution_count": null,
      "outputs": [
        {
          "output_type": "execute_result",
          "data": {
            "text/plain": [
              "(array([ 1.,  4.,  6.,  8., 16., 23., 14., 15.,  8.,  5.]),\n",
              " array([-2.93956436, -2.41795991, -1.89635546, -1.37475101, -0.85314656,\n",
              "        -0.33154211,  0.19006233,  0.71166678,  1.23327123,  1.75487568,\n",
              "         2.27648013]),\n",
              " <a list of 10 Patch objects>)"
            ]
          },
          "metadata": {},
          "execution_count": 44
        },
        {
          "output_type": "display_data",
          "data": {
            "text/plain": [
              "<Figure size 432x288 with 1 Axes>"
            ],
            "image/png": "[encoded data removed]"
          },
          "metadata": {
            "needs_background": "light"
          }
        }
      ]
    },
    {
      "cell_type": "code",
      "source": [
        "import matplotlib.pyplot as plt\n",
        "plt.hist(n)"
      ],
      "metadata": {
        "colab": {
          "base_uri": "https://localhost:8080/",
          "height": 355
        },
        "id": "2I3FAPI_UVp0",
        "outputId": "da9a90e6-37b2-467a-c0e0-fe29a3091100"
      },
      "execution_count": null,
      "outputs": [
        {
          "output_type": "execute_result",
          "data": {
            "text/plain": [
              "(array([ 1.,  4.,  6.,  8., 16., 23., 14., 15.,  8.,  5.]),\n",
              " array([-2.93956436, -2.41795991, -1.89635546, -1.37475101, -0.85314656,\n",
              "        -0.33154211,  0.19006233,  0.71166678,  1.23327123,  1.75487568,\n",
              "         2.27648013]),\n",
              " <a list of 10 Patch objects>)"
            ]
          },
          "metadata": {},
          "execution_count": 46
        },
        {
          "output_type": "display_data",
          "data": {
            "text/plain": [
              "<Figure size 432x288 with 1 Axes>"
            ],
            "image/png": "[encoded data removed]"
          },
          "metadata": {
            "needs_background": "light"
          }
        }
      ]
    },
    {
      "cell_type": "markdown",
      "source": [
        "Numpy"
      ],
      "metadata": {
        "id": "WE3wOBv1UjeQ"
      }
    },
    {
      "cell_type": "code",
      "source": [
        "from matplotlib import pyplot\n",
        "pyplot.hist(n)"
      ],
      "metadata": {
        "colab": {
          "base_uri": "https://localhost:8080/",
          "height": 355
        },
        "id": "UrOfFh9ZUprS",
        "outputId": "a16666c4-815a-49af-e186-5a7fa0329638"
      },
      "execution_count": null,
      "outputs": [
        {
          "output_type": "execute_result",
          "data": {
            "text/plain": [
              "(array([ 1.,  4.,  6.,  8., 16., 23., 14., 15.,  8.,  5.]),\n",
              " array([-2.93956436, -2.41795991, -1.89635546, -1.37475101, -0.85314656,\n",
              "        -0.33154211,  0.19006233,  0.71166678,  1.23327123,  1.75487568,\n",
              "         2.27648013]),\n",
              " <a list of 10 Patch objects>)"
            ]
          },
          "metadata": {},
          "execution_count": 47
        },
        {
          "output_type": "display_data",
          "data": {
            "text/plain": [
              "<Figure size 432x288 with 1 Axes>"
            ],
            "image/png": "[encoded data removed]"
          },
          "metadata": {
            "needs_background": "light"
          }
        }
      ]
    },
    {
      "cell_type": "code",
      "source": [
        "import numpy as np"
      ],
      "metadata": {
        "id": "niag57FVU2Gg"
      },
      "execution_count": null,
      "outputs": []
    },
    {
      "cell_type": "code",
      "source": [
        "x = np.array([1, 2, 3])\n",
        "print(x)\n",
        "print(type(x))\n",
        "print(x.shape)"
      ],
      "metadata": {
        "colab": {
          "base_uri": "https://localhost:8080/"
        },
        "id": "FtMVTq08U4tc",
        "outputId": "efada94d-7ec6-4a72-d658-7fcf81b99e56"
      },
      "execution_count": null,
      "outputs": [
        {
          "output_type": "stream",
          "name": "stdout",
          "text": [
            "[1 2 3]\n",
            "<class 'numpy.ndarray'>\n",
            "(3,)\n"
          ]
        }
      ]
    },
    {
      "cell_type": "code",
      "source": [
        "x = np.arange(0,10,2)\n",
        "print(x)\n",
        "print(type(x))\n",
        "print(x.shape)"
      ],
      "metadata": {
        "colab": {
          "base_uri": "https://localhost:8080/"
        },
        "id": "TvzE1OxfVqHV",
        "outputId": "e1667d49-e690-4033-d272-c6474eb0c568"
      },
      "execution_count": null,
      "outputs": [
        {
          "output_type": "stream",
          "name": "stdout",
          "text": [
            "[0 2 4 6 8]\n",
            "<class 'numpy.ndarray'>\n",
            "(5,)\n"
          ]
        }
      ]
    },
    {
      "cell_type": "code",
      "source": [
        "x = np.linspace(0,10,6)\n",
        "print(x)\n",
        "print(type(x))\n",
        "print(x.shape)"
      ],
      "metadata": {
        "colab": {
          "base_uri": "https://localhost:8080/"
        },
        "id": "NkVHVj3lWfRx",
        "outputId": "f62d3bdd-338b-4b68-d9cd-226b3c4145dc"
      },
      "execution_count": null,
      "outputs": [
        {
          "output_type": "stream",
          "name": "stdout",
          "text": [
            "[ 0.  2.  4.  6.  8. 10.]\n",
            "<class 'numpy.ndarray'>\n",
            "(6,)\n"
          ]
        }
      ]
    },
    {
      "cell_type": "code",
      "source": [
        "x = np.array([[1,2,3], [4,5,6]])\n",
        "print(x)\n",
        "print(type(x))\n",
        "print(x.shape)"
      ],
      "metadata": {
        "colab": {
          "base_uri": "https://localhost:8080/"
        },
        "id": "EryVZ-GKW9Tc",
        "outputId": "c15f0156-5c2f-40a1-ff6d-c86465843b10"
      },
      "execution_count": null,
      "outputs": [
        {
          "output_type": "stream",
          "name": "stdout",
          "text": [
            "[[1 2 3]\n",
            " [4 5 6]]\n",
            "<class 'numpy.ndarray'>\n",
            "(2, 3)\n"
          ]
        }
      ]
    },
    {
      "cell_type": "code",
      "source": [
        "np.random.normal(0, 1, [2,3,4])"
      ],
      "metadata": {
        "colab": {
          "base_uri": "https://localhost:8080/"
        },
        "id": "4mFHajtxZHMo",
        "outputId": "09250c88-d6fe-4a23-baea-75c94e23229a"
      },
      "execution_count": null,
      "outputs": [
        {
          "output_type": "execute_result",
          "data": {
            "text/plain": [
              "array([[[ 1.34181364, -0.65994917, -0.74118597,  0.13867614],\n",
              "        [-0.8335666 , -0.80582859,  0.89731129,  0.71819758],\n",
              "        [-0.27226292,  0.15076846,  1.12818682, -0.00307486]],\n",
              "\n",
              "       [[ 0.02610176, -0.4732321 ,  0.50951733, -0.04772506],\n",
              "        [ 0.84473788, -0.83280501,  1.90157569,  0.28715593],\n",
              "        [ 1.77621554, -0.41684668,  1.70457756,  0.06917526]]])"
            ]
          },
          "metadata": {},
          "execution_count": 63
        }
      ]
    },
    {
      "cell_type": "code",
      "source": [
        "import matplotlib.pyplot as plt"
      ],
      "metadata": {
        "id": "hzWI7DfJZP7Y"
      },
      "execution_count": null,
      "outputs": []
    },
    {
      "cell_type": "code",
      "source": [
        "x = np.random.normal(0,1,100)\n",
        "print(x)\n",
        "plt.hist(x, bins=10)"
      ],
      "metadata": {
        "colab": {
          "base_uri": "https://localhost:8080/",
          "height": 661
        },
        "id": "ozoMnBggaerI",
        "outputId": "cc87ac23-e921-4b1e-9faf-f48dda359b33"
      },
      "execution_count": null,
      "outputs": [
        {
          "output_type": "stream",
          "name": "stdout",
          "text": [
            "[ 2.11159559 -2.34007515 -1.23186559 -1.12552532 -0.69464015  1.86639155\n",
            "  0.95630483  1.09989655  0.67664731 -0.59552934  0.38283886  0.62739545\n",
            " -1.2618174   0.35444203 -0.34654107 -0.06789176  1.00305321  1.90551718\n",
            " -0.93784603 -0.07797757 -1.8418603   0.89357344 -0.98185037  1.18033886\n",
            "  1.26001502 -0.90159763 -0.55768382  0.45236     1.80361743 -1.58948211\n",
            "  0.90268272 -0.97862781  0.98346191 -0.91200239 -1.68008343 -0.14518179\n",
            "  0.82843531  0.08717577  0.04127238  0.92976685  0.44576453  1.48289642\n",
            " -1.50198586  1.06902201 -0.3799366   0.26389436 -0.27594184  1.29625823\n",
            " -0.3295751   2.06016334 -0.05742699 -0.040922    1.74122561  0.23920116\n",
            "  2.10710912  0.43017806  0.38663062 -2.10069067  0.33991792  0.51104128\n",
            "  2.15845931  0.81552616 -0.96874697 -0.93751072  0.38400715  0.0909647\n",
            "  0.51066417  2.33783629  0.53983217  0.49576981 -0.18824204  1.93375467\n",
            " -1.44509955 -0.2424391  -1.27082294 -0.07982286  0.72341858  0.04182304\n",
            "  0.43406716 -0.58484078 -0.32417     0.48177067 -1.12831467  0.32158876\n",
            "  0.04854854  0.57632792  0.26585931 -0.40566645  0.47077474 -0.9336289\n",
            "  0.06674489 -0.17868902 -0.55402649  0.08124224 -0.70818159  1.32754368\n",
            " -0.52437202  0.35872021 -0.22221555 -2.44313719]\n"
          ]
        },
        {
          "output_type": "execute_result",
          "data": {
            "text/plain": [
              "(array([ 3.,  4.,  6., 14., 16., 18., 18., 10.,  3.,  8.]),\n",
              " array([-2.44313719, -1.96503984, -1.48694249, -1.00884515, -0.5307478 ,\n",
              "        -0.05265045,  0.4254469 ,  0.90354425,  1.3816416 ,  1.85973894,\n",
              "         2.33783629]),\n",
              " <a list of 10 Patch objects>)"
            ]
          },
          "metadata": {},
          "execution_count": 64
        },
        {
          "output_type": "display_data",
          "data": {
            "text/plain": [
              "<Figure size 432x288 with 1 Axes>"
            ],
            "image/png": "[encoded data removed]"
          },
          "metadata": {
            "needs_background": "light"
          }
        }
      ]
    },
    {
      "cell_type": "markdown",
      "source": [
        "**Generating a sine curve**\n",
        "\n",
        "numpy로 사인 곡선 만든 후 matplotlib으로 plotting"
      ],
      "metadata": {
        "id": "rwTd5JUvapWM"
      }
    }
  ]
}