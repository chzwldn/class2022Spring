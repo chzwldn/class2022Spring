{
  "nbformat": 4,
  "nbformat_minor": 0,
  "metadata": {
    "colab": {
      "name": "20220316.ipynb",
      "provenance": [],
      "authorship_tag": "ABX9TyMzG+GFCB4g9k7SjkutT2gt",
      "include_colab_link": true
    },
    "kernelspec": {
      "name": "python3",
      "display_name": "Python 3"
    },
    "language_info": {
      "name": "python"
    }
  },
  "cells": [
    {
      "cell_type": "markdown",
      "metadata": {
        "id": "view-in-github",
        "colab_type": "text"
      },
      "source": [
        "<a href=\"https://colab.research.google.com/github/chzwldn/class2022Spring/blob/main/20220316.ipynb\" target=\"_parent\"><img src=\"https://colab.research.google.com/assets/colab-badge.svg\" alt=\"Open In Colab\"/></a>"
      ]
    },
    {
      "cell_type": "markdown",
      "source": [
        "코딩 요소\n",
        "1. 변수(variables)\n",
        "2. 문법(syntax)\n",
        "3. 함수(function)\n",
        "4. 패키지(package, library)"
      ],
      "metadata": {
        "id": "F6NdaQXUC9W8"
      }
    },
    {
      "cell_type": "markdown",
      "source": [
        "**<변수>**\n",
        "1. 변수의 종류\n",
        ": number, string, list(여러 개의 문자, 숫자), turple(list와 유사하나 괄호가 다르고, 내부 요소 수정 불가), dict\n",
        "\n",
        "print(a): variable 내용\n",
        "print(type(a)): variable 종류"
      ],
      "metadata": {
        "id": "SFwKyV5JDKqf"
      }
    },
    {
      "cell_type": "code",
      "source": [
        "a = 1; print(a)"
      ],
      "metadata": {
        "colab": {
          "base_uri": "https://localhost:8080/"
        },
        "id": "Lkg8WIoSDs_E",
        "outputId": "34d876ef-ea95-42fc-a30e-8cce4f9ed252"
      },
      "execution_count": 1,
      "outputs": [
        {
          "output_type": "stream",
          "name": "stdout",
          "text": [
            "1\n"
          ]
        }
      ]
    },
    {
      "cell_type": "code",
      "source": [
        "a = 1; print(type(a))"
      ],
      "metadata": {
        "colab": {
          "base_uri": "https://localhost:8080/"
        },
        "id": "u9uPI-buDwou",
        "outputId": "e47009ad-6c71-425b-947b-7e23554682f6"
      },
      "execution_count": 2,
      "outputs": [
        {
          "output_type": "stream",
          "name": "stdout",
          "text": [
            "<class 'int'>\n"
          ]
        }
      ]
    },
    {
      "cell_type": "code",
      "source": [
        "b = 1.1; print(type(b))"
      ],
      "metadata": {
        "colab": {
          "base_uri": "https://localhost:8080/"
        },
        "id": "2srGeE1DD_jL",
        "outputId": "4f6b54dc-e775-4acb-9922-b10e1e16f1d8"
      },
      "execution_count": 3,
      "outputs": [
        {
          "output_type": "stream",
          "name": "stdout",
          "text": [
            "<class 'float'>\n"
          ]
        }
      ]
    },
    {
      "cell_type": "markdown",
      "source": [
        "''또는 \"\" 사용: String 생성"
      ],
      "metadata": {
        "id": "bbQzULJPELsn"
      }
    },
    {
      "cell_type": "code",
      "source": [
        "a = '123'; print(type(a))"
      ],
      "metadata": {
        "colab": {
          "base_uri": "https://localhost:8080/"
        },
        "id": "H1UOGi-WEF5C",
        "outputId": "d6cc846d-c05a-4993-a4de-ce74a24d40fd"
      },
      "execution_count": 4,
      "outputs": [
        {
          "output_type": "stream",
          "name": "stdout",
          "text": [
            "<class 'str'>\n"
          ]
        }
      ]
    },
    {
      "cell_type": "code",
      "source": [
        "a = 'hello'; print(type(a))"
      ],
      "metadata": {
        "colab": {
          "base_uri": "https://localhost:8080/"
        },
        "id": "sdGiRt7QEIKR",
        "outputId": "63e4ec08-93d0-4459-af36-7c603532852f"
      },
      "execution_count": 5,
      "outputs": [
        {
          "output_type": "stream",
          "name": "stdout",
          "text": [
            "<class 'str'>\n"
          ]
        }
      ]
    },
    {
      "cell_type": "markdown",
      "source": [
        "**List**\n",
        "\n",
        "여러 개의 문자나 숫자를 담을 때 사용, 대괄호 [] 안에 콤마 ','를 사용해서 구분하며 list 안에 list를 넣을 수 있다"
      ],
      "metadata": {
        "id": "Z5SQRh4rERCE"
      }
    },
    {
      "cell_type": "code",
      "source": [
        "a = [1, 2, 3, 4]; print(type(a))"
      ],
      "metadata": {
        "colab": {
          "base_uri": "https://localhost:8080/"
        },
        "id": "Ive6UXU8Eknv",
        "outputId": "25c9680c-3ace-4acd-a98d-f319d6c46e4b"
      },
      "execution_count": 6,
      "outputs": [
        {
          "output_type": "stream",
          "name": "stdout",
          "text": [
            "<class 'list'>\n"
          ]
        }
      ]
    },
    {
      "cell_type": "code",
      "source": [
        "a = [1, 'a', [3, '4']]; print(type(a))"
      ],
      "metadata": {
        "colab": {
          "base_uri": "https://localhost:8080/"
        },
        "id": "aznTOyhxErRF",
        "outputId": "db4d4418-82a5-4702-e0ee-36378f06a0fd"
      },
      "execution_count": 7,
      "outputs": [
        {
          "output_type": "stream",
          "name": "stdout",
          "text": [
            "<class 'list'>\n"
          ]
        }
      ]
    },
    {
      "cell_type": "markdown",
      "source": [
        ""
      ],
      "metadata": {
        "id": "g1LZM7_PE6bU"
      }
    },
    {
      "cell_type": "code",
      "source": [
        "a=[1, 2, 3, 4];a[0]"
      ],
      "metadata": {
        "colab": {
          "base_uri": "https://localhost:8080/"
        },
        "id": "hqXiPE2pFBcY",
        "outputId": "75397842-8849-4638-ef23-f5ba631cf4d4"
      },
      "execution_count": 8,
      "outputs": [
        {
          "output_type": "execute_result",
          "data": {
            "text/plain": [
              "1"
            ]
          },
          "metadata": {},
          "execution_count": 8
        }
      ]
    },
    {
      "cell_type": "code",
      "source": [
        "a=[1, 2, 3, 4, 5, 6];a[2:5]"
      ],
      "metadata": {
        "colab": {
          "base_uri": "https://localhost:8080/"
        },
        "id": "m1rLd2mCFEca",
        "outputId": "0686f71e-e9cf-41fd-eb1f-7c635a8ab02d"
      },
      "execution_count": 9,
      "outputs": [
        {
          "output_type": "execute_result",
          "data": {
            "text/plain": [
              "[3, 4, 5]"
            ]
          },
          "metadata": {},
          "execution_count": 9
        }
      ]
    }
  ]
}