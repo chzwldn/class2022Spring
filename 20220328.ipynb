{
  "cells": [
    {
      "cell_type": "markdown",
      "metadata": {
        "id": "view-in-github",
        "colab_type": "text"
      },
      "source": [
        "<a href=\"https://colab.research.google.com/github/chzwldn/class2022Spring/blob/main/20220328.ipynb\" target=\"_parent\"><img src=\"https://colab.research.google.com/assets/colab-badge.svg\" alt=\"Open In Colab\"/></a>"
      ]
    },
    {
      "cell_type": "code",
      "execution_count": 21,
      "metadata": {
        "colab": {
          "base_uri": "https://localhost:8080/"
        },
        "id": "xjaE_eXbrWUv",
        "outputId": "6a4867c8-6ba2-4863-d14c-dfa1fcd72d75"
      },
      "outputs": [
        {
          "output_type": "stream",
          "name": "stdout",
          "text": [
            "Requirement already satisfied: gradio in /usr/local/lib/python3.7/dist-packages (2.9.1)\n",
            "Requirement already satisfied: ffmpy in /usr/local/lib/python3.7/dist-packages (from gradio) (0.3.0)\n",
            "Requirement already satisfied: numpy in /usr/local/lib/python3.7/dist-packages (from gradio) (1.21.5)\n",
            "Requirement already satisfied: pillow in /usr/local/lib/python3.7/dist-packages (from gradio) (7.1.2)\n",
            "Requirement already satisfied: pydub in /usr/local/lib/python3.7/dist-packages (from gradio) (0.25.1)\n",
            "Requirement already satisfied: requests in /usr/local/lib/python3.7/dist-packages (from gradio) (2.23.0)\n",
            "Requirement already satisfied: matplotlib in /usr/local/lib/python3.7/dist-packages (from gradio) (3.2.2)\n",
            "Requirement already satisfied: pandas in /usr/local/lib/python3.7/dist-packages (from gradio) (1.3.5)\n",
            "Requirement already satisfied: markdown-it-py[linkify,plugins] in /usr/local/lib/python3.7/dist-packages (from gradio) (2.0.1)\n",
            "Requirement already satisfied: analytics-python in /usr/local/lib/python3.7/dist-packages (from gradio) (1.4.0)\n",
            "Requirement already satisfied: uvicorn in /usr/local/lib/python3.7/dist-packages (from gradio) (0.17.6)\n",
            "Requirement already satisfied: python-multipart in /usr/local/lib/python3.7/dist-packages (from gradio) (0.0.5)\n",
            "Requirement already satisfied: orjson in /usr/local/lib/python3.7/dist-packages (from gradio) (3.6.7)\n",
            "Requirement already satisfied: fastapi in /usr/local/lib/python3.7/dist-packages (from gradio) (0.75.1)\n",
            "Requirement already satisfied: aiohttp in /usr/local/lib/python3.7/dist-packages (from gradio) (3.8.1)\n",
            "Requirement already satisfied: paramiko in /usr/local/lib/python3.7/dist-packages (from gradio) (2.10.3)\n",
            "Requirement already satisfied: pycryptodome in /usr/local/lib/python3.7/dist-packages (from gradio) (3.14.1)\n",
            "Requirement already satisfied: attrs>=17.3.0 in /usr/local/lib/python3.7/dist-packages (from aiohttp->gradio) (21.4.0)\n",
            "Requirement already satisfied: yarl<2.0,>=1.0 in /usr/local/lib/python3.7/dist-packages (from aiohttp->gradio) (1.7.2)\n",
            "Requirement already satisfied: frozenlist>=1.1.1 in /usr/local/lib/python3.7/dist-packages (from aiohttp->gradio) (1.3.0)\n",
            "Requirement already satisfied: charset-normalizer<3.0,>=2.0 in /usr/local/lib/python3.7/dist-packages (from aiohttp->gradio) (2.0.12)\n",
            "Requirement already satisfied: asynctest==0.13.0 in /usr/local/lib/python3.7/dist-packages (from aiohttp->gradio) (0.13.0)\n",
            "Requirement already satisfied: aiosignal>=1.1.2 in /usr/local/lib/python3.7/dist-packages (from aiohttp->gradio) (1.2.0)\n",
            "Requirement already satisfied: typing-extensions>=3.7.4 in /usr/local/lib/python3.7/dist-packages (from aiohttp->gradio) (3.10.0.2)\n",
            "Requirement already satisfied: multidict<7.0,>=4.5 in /usr/local/lib/python3.7/dist-packages (from aiohttp->gradio) (6.0.2)\n",
            "Requirement already satisfied: async-timeout<5.0,>=4.0.0a3 in /usr/local/lib/python3.7/dist-packages (from aiohttp->gradio) (4.0.2)\n",
            "Requirement already satisfied: idna>=2.0 in /usr/local/lib/python3.7/dist-packages (from yarl<2.0,>=1.0->aiohttp->gradio) (2.10)\n",
            "Requirement already satisfied: six>=1.5 in /usr/local/lib/python3.7/dist-packages (from analytics-python->gradio) (1.15.0)\n",
            "Requirement already satisfied: backoff==1.10.0 in /usr/local/lib/python3.7/dist-packages (from analytics-python->gradio) (1.10.0)\n",
            "Requirement already satisfied: monotonic>=1.5 in /usr/local/lib/python3.7/dist-packages (from analytics-python->gradio) (1.6)\n",
            "Requirement already satisfied: python-dateutil>2.1 in /usr/local/lib/python3.7/dist-packages (from analytics-python->gradio) (2.8.2)\n",
            "Requirement already satisfied: urllib3!=1.25.0,!=1.25.1,<1.26,>=1.21.1 in /usr/local/lib/python3.7/dist-packages (from requests->gradio) (1.24.3)\n",
            "Requirement already satisfied: certifi>=2017.4.17 in /usr/local/lib/python3.7/dist-packages (from requests->gradio) (2021.10.8)\n",
            "Requirement already satisfied: chardet<4,>=3.0.2 in /usr/local/lib/python3.7/dist-packages (from requests->gradio) (3.0.4)\n",
            "Requirement already satisfied: starlette==0.17.1 in /usr/local/lib/python3.7/dist-packages (from fastapi->gradio) (0.17.1)\n",
            "Requirement already satisfied: pydantic!=1.7,!=1.7.1,!=1.7.2,!=1.7.3,!=1.8,!=1.8.1,<2.0.0,>=1.6.2 in /usr/local/lib/python3.7/dist-packages (from fastapi->gradio) (1.9.0)\n",
            "Requirement already satisfied: anyio<4,>=3.0.0 in /usr/local/lib/python3.7/dist-packages (from starlette==0.17.1->fastapi->gradio) (3.5.0)\n",
            "Requirement already satisfied: sniffio>=1.1 in /usr/local/lib/python3.7/dist-packages (from anyio<4,>=3.0.0->starlette==0.17.1->fastapi->gradio) (1.2.0)\n",
            "Requirement already satisfied: mdurl~=0.1 in /usr/local/lib/python3.7/dist-packages (from markdown-it-py[linkify,plugins]->gradio) (0.1.0)\n",
            "Requirement already satisfied: linkify-it-py~=1.0 in /usr/local/lib/python3.7/dist-packages (from markdown-it-py[linkify,plugins]->gradio) (1.0.3)\n",
            "Requirement already satisfied: mdit-py-plugins in /usr/local/lib/python3.7/dist-packages (from markdown-it-py[linkify,plugins]->gradio) (0.3.0)\n",
            "Requirement already satisfied: uc-micro-py in /usr/local/lib/python3.7/dist-packages (from linkify-it-py~=1.0->markdown-it-py[linkify,plugins]->gradio) (1.0.1)\n",
            "Requirement already satisfied: cycler>=0.10 in /usr/local/lib/python3.7/dist-packages (from matplotlib->gradio) (0.11.0)\n",
            "Requirement already satisfied: pyparsing!=2.0.4,!=2.1.2,!=2.1.6,>=2.0.1 in /usr/local/lib/python3.7/dist-packages (from matplotlib->gradio) (3.0.7)\n",
            "Requirement already satisfied: kiwisolver>=1.0.1 in /usr/local/lib/python3.7/dist-packages (from matplotlib->gradio) (1.4.0)\n",
            "Requirement already satisfied: pytz>=2017.3 in /usr/local/lib/python3.7/dist-packages (from pandas->gradio) (2018.9)\n",
            "Requirement already satisfied: pynacl>=1.0.1 in /usr/local/lib/python3.7/dist-packages (from paramiko->gradio) (1.5.0)\n",
            "Requirement already satisfied: cryptography>=2.5 in /usr/local/lib/python3.7/dist-packages (from paramiko->gradio) (36.0.2)\n",
            "Requirement already satisfied: bcrypt>=3.1.3 in /usr/local/lib/python3.7/dist-packages (from paramiko->gradio) (3.2.0)\n",
            "Requirement already satisfied: cffi>=1.1 in /usr/local/lib/python3.7/dist-packages (from bcrypt>=3.1.3->paramiko->gradio) (1.15.0)\n",
            "Requirement already satisfied: pycparser in /usr/local/lib/python3.7/dist-packages (from cffi>=1.1->bcrypt>=3.1.3->paramiko->gradio) (2.21)\n",
            "Requirement already satisfied: click>=7.0 in /usr/local/lib/python3.7/dist-packages (from uvicorn->gradio) (7.1.2)\n",
            "Requirement already satisfied: h11>=0.8 in /usr/local/lib/python3.7/dist-packages (from uvicorn->gradio) (0.13.0)\n",
            "Requirement already satisfied: asgiref>=3.4.0 in /usr/local/lib/python3.7/dist-packages (from uvicorn->gradio) (3.5.0)\n"
          ]
        }
      ],
      "source": [
        "!pip install gradio\n",
        "import gradio as gr\n",
        "import requests\n",
        "import pandas as pd"
      ]
    },
    {
      "cell_type": "code",
      "execution_count": 23,
      "metadata": {
        "id": "BOaOzTijvnMo"
      },
      "outputs": [],
      "source": [
        "URL = ('http://apis.data.go.kr/1741000/DisasterMsg3/'\n",
        "       'getDisasterMsg1List?'\n",
        "       'ServiceKey=Z4qfGFhDCw7yr%2BxK22AeHbVi6UACobIZBRA7q7XVFLcGPT%2BKFp1%2FjMEenBGy8vxz7058gq9EC%2BQw7HQJ4j66Rg%3D%3D'\n",
        "       '&location_name=경기도 안양시'\n",
        "       '&type=json'\n",
        "       '&pageNo=1'\n",
        "       '&numOfRows=10')\n",
        "response = requests.get(URL)"
      ]
    },
    {
      "cell_type": "code",
      "execution_count": 24,
      "metadata": {
        "colab": {
          "base_uri": "https://localhost:8080/"
        },
        "id": "Ruf5CfJk1Dbc",
        "outputId": "f611bce3-ac7c-4886-a694-98e3d33019e2"
      },
      "outputs": [
        {
          "output_type": "execute_result",
          "data": {
            "text/plain": [
              "<Response [200]>"
            ]
          },
          "metadata": {},
          "execution_count": 24
        }
      ],
      "source": [
        "response"
      ]
    },
    {
      "cell_type": "markdown",
      "metadata": {
        "id": "G7jceExX3Ceu"
      },
      "source": [
        "http://jsonviewer.stack.hu/ (copy json here to view json)"
      ]
    },
    {
      "cell_type": "code",
      "execution_count": 25,
      "metadata": {
        "colab": {
          "base_uri": "https://localhost:8080/"
        },
        "id": "DWJWWIC53DgU",
        "outputId": "8206950a-485b-458f-b3aa-2f5dbac5e147"
      },
      "outputs": [
        {
          "output_type": "execute_result",
          "data": {
            "text/plain": [
              "{'DisasterMsg': [{'head': [{'totalCount': 130257},\n",
              "    {'numOfRows': '10', 'pageNo': '1', 'type': 'JSON'},\n",
              "    {'RESULT': {'resultCode': 'INFO-0', 'resultMsg': 'NOMAL SERVICE'}}]},\n",
              "  {'row': [{'create_date': '2022/04/06 13:08:40',\n",
              "     'location_id': '189',\n",
              "     'location_name': '전라남도 보성군',\n",
              "     'md101_sn': '150734',\n",
              "     'msg': '[보성군] ▲ 한식기간 묘지 등 산림근처 화기소지 및 소각행위 금지 ▲ 건조한 날씨로 산불 발생 위험 높음 ▲ 산불 발견 즉시 119 신고바랍니다.',\n",
              "     'send_platform': 'cbs'},\n",
              "    {'create_date': '2022/04/06 13:01:52',\n",
              "     'location_id': '73',\n",
              "     'location_name': '경상남도 합천군',\n",
              "     'md101_sn': '150733',\n",
              "     'msg': '[합천군청] 4.6.(수) 13시 기준 확진자 85명 발생(합천군민 82, 타지역 3), 재택치료자 행동요령 https://c11.kr/wpv5 참고바랍니다',\n",
              "     'send_platform': 'cbs'},\n",
              "    {'create_date': '2022/04/06 13:00:32',\n",
              "     'location_id': '244',\n",
              "     'location_name': '충청북도 음성군',\n",
              "     'md101_sn': '150732',\n",
              "     'msg': '[음성군청] 4월5일 확진자 562명 발생▲마스크착용▲환기와 외출 후 손씻기▲개인방역수칙준수 철저▲재택치료(일반관리군) 행정상담센터 문의 043-871-5499',\n",
              "     'send_platform': 'cbs'},\n",
              "    {'create_date': '2022/04/06 13:00:25',\n",
              "     'location_id': '60',\n",
              "     'location_name': '경상남도 밀양시',\n",
              "     'md101_sn': '150731',\n",
              "     'msg': '[밀양시청]전시민 일상회복지원금신청안내 4.11~4.29 신청, 만19세이상 세대원이 주소지 읍면동사무소 방문신청(신분증 지참, 세대단위일괄지급)시 홈페이지 참조',\n",
              "     'send_platform': 'cbs'},\n",
              "    {'create_date': '2022/04/06 12:12:15',\n",
              "     'location_id': '38',\n",
              "     'location_name': '경기도 안양시',\n",
              "     'md101_sn': '150730',\n",
              "     'msg': '[안양시청] ▲4.6.(수) 0시 기준 신규확진자 3,420명 발생\\n▲18세 이상 미접종자 노바백스 백신 접종 가능 url.kr/9ibl3c',\n",
              "     'send_platform': 'cbs'},\n",
              "    {'create_date': '2022/04/06 11:48:29',\n",
              "     'location_id': '228',\n",
              "     'location_name': '충청남도 부여군',\n",
              "     'md101_sn': '150729',\n",
              "     'msg': '[부여군청] 4.6. 확진자 198명 발생 \\n▶ 보건소 신속항원검사 4월 11일부터 중단 \\n▶ 4.11.(월) 부터 보건소 선별진료소 17:30분까지 연장 운영',\n",
              "     'send_platform': 'cbs'},\n",
              "    {'create_date': '2022/04/06 11:46:25',\n",
              "     'location_id': '216',\n",
              "     'location_name': '전라북도 진안군',\n",
              "     'md101_sn': '150728',\n",
              "     'msg': '[진안군청] 4.6.(수) 현재기준 확진자 122명(금일 67명, 전일 55명) 발생 https://www.jinan.go.kr/index.jinan',\n",
              "     'send_platform': 'cbs'},\n",
              "    {'create_date': '2022/04/06 11:36:49',\n",
              "     'location_id': '210',\n",
              "     'location_name': '전라북도 완주군',\n",
              "     'md101_sn': '150727',\n",
              "     'msg': '[완주군청] 4월 6일 (수) 0시 기준 확진자 514명발생 ▲행사, 외출, 모임자제▲마스크 착용▲주기적 환기▲방역수칙 준수▲재택치료 안내 c11.kr/wpv5',\n",
              "     'send_platform': 'cbs'},\n",
              "    {'create_date': '2022/04/06 11:31:11',\n",
              "     'location_id': '211',\n",
              "     'location_name': '전라북도 익산시',\n",
              "     'md101_sn': '150726',\n",
              "     'msg': '[익산시청] 코로나19 확진자 급증에 따라 시민모두의 안전을 위한\\n생활방역수칙을 안내하오니 실천해주시기를 바랍니다\\nhttps://bit.ly/3CZmLMB',\n",
              "     'send_platform': 'cbs'},\n",
              "    {'create_date': '2022/04/06 11:30:08',\n",
              "     'location_id': '136',\n",
              "     'location_name': '서울특별시 전체',\n",
              "     'md101_sn': '150725',\n",
              "     'msg': '[서울시청] 4.6(수) 0시 기준 서울시 신규 확진자 52,430명 발생. 자치구별 현황은 bit.ly/3o0icfp 참고하시기 바랍니다 ☎1899-0221',\n",
              "     'send_platform': 'cbs'}]}]}"
            ]
          },
          "metadata": {},
          "execution_count": 25
        }
      ],
      "source": [
        "r = response.json()\n",
        "r"
      ]
    },
    {
      "cell_type": "code",
      "execution_count": 26,
      "metadata": {
        "colab": {
          "base_uri": "https://localhost:8080/",
          "height": 359
        },
        "id": "ZZfeEe6y3dOy",
        "outputId": "e33d6856-b838-4e19-d9fb-c6095323dd07"
      },
      "outputs": [
        {
          "output_type": "execute_result",
          "data": {
            "text/plain": [
              "           create_date location_id location_name md101_sn  \\\n",
              "0  2022/04/06 13:08:40         189      전라남도 보성군   150734   \n",
              "1  2022/04/06 13:01:52          73      경상남도 합천군   150733   \n",
              "2  2022/04/06 13:00:32         244      충청북도 음성군   150732   \n",
              "3  2022/04/06 13:00:25          60      경상남도 밀양시   150731   \n",
              "4  2022/04/06 12:12:15          38       경기도 안양시   150730   \n",
              "5  2022/04/06 11:48:29         228      충청남도 부여군   150729   \n",
              "6  2022/04/06 11:46:25         216      전라북도 진안군   150728   \n",
              "7  2022/04/06 11:36:49         210      전라북도 완주군   150727   \n",
              "8  2022/04/06 11:31:11         211      전라북도 익산시   150726   \n",
              "9  2022/04/06 11:30:08         136      서울특별시 전체   150725   \n",
              "\n",
              "                                                 msg send_platform  \n",
              "0  [보성군] ▲ 한식기간 묘지 등 산림근처 화기소지 및 소각행위 금지 ▲ 건조한 날씨...           cbs  \n",
              "1  [합천군청] 4.6.(수) 13시 기준 확진자 85명 발생(합천군민 82, 타지역 ...           cbs  \n",
              "2  [음성군청] 4월5일 확진자 562명 발생▲마스크착용▲환기와 외출 후 손씻기▲개인방...           cbs  \n",
              "3  [밀양시청]전시민 일상회복지원금신청안내 4.11~4.29 신청, 만19세이상 세대원...           cbs  \n",
              "4  [안양시청] ▲4.6.(수) 0시 기준 신규확진자 3,420명 발생\\n▲18세 이상...           cbs  \n",
              "5  [부여군청] 4.6. 확진자 198명 발생 \\n▶ 보건소 신속항원검사 4월 11일부...           cbs  \n",
              "6  [진안군청] 4.6.(수) 현재기준 확진자 122명(금일 67명, 전일 55명) 발...           cbs  \n",
              "7  [완주군청] 4월 6일 (수) 0시 기준 확진자 514명발생 ▲행사, 외출, 모임자...           cbs  \n",
              "8  [익산시청] 코로나19 확진자 급증에 따라 시민모두의 안전을 위한\\n생활방역수칙을 ...           cbs  \n",
              "9  [서울시청] 4.6(수) 0시 기준 서울시 신규 확진자 52,430명 발생. 자치구...           cbs  "
            ],
            "text/html": [
              "\n",
              "  <div id=\"df-9766aca7-ab49-4361-b206-20e677db0848\">\n",
              "    <div class=\"colab-df-container\">\n",
              "      <div>\n",
              "<style scoped>\n",
              "    .dataframe tbody tr th:only-of-type {\n",
              "        vertical-align: middle;\n",
              "    }\n",
              "\n",
              "    .dataframe tbody tr th {\n",
              "        vertical-align: top;\n",
              "    }\n",
              "\n",
              "    .dataframe thead th {\n",
              "        text-align: right;\n",
              "    }\n",
              "</style>\n",
              "<table border=\"1\" class=\"dataframe\">\n",
              "  <thead>\n",
              "    <tr style=\"text-align: right;\">\n",
              "      <th></th>\n",
              "      <th>create_date</th>\n",
              "      <th>location_id</th>\n",
              "      <th>location_name</th>\n",
              "      <th>md101_sn</th>\n",
              "      <th>msg</th>\n",
              "      <th>send_platform</th>\n",
              "    </tr>\n",
              "  </thead>\n",
              "  <tbody>\n",
              "    <tr>\n",
              "      <th>0</th>\n",
              "      <td>2022/04/06 13:08:40</td>\n",
              "      <td>189</td>\n",
              "      <td>전라남도 보성군</td>\n",
              "      <td>150734</td>\n",
              "      <td>[보성군] ▲ 한식기간 묘지 등 산림근처 화기소지 및 소각행위 금지 ▲ 건조한 날씨...</td>\n",
              "      <td>cbs</td>\n",
              "    </tr>\n",
              "    <tr>\n",
              "      <th>1</th>\n",
              "      <td>2022/04/06 13:01:52</td>\n",
              "      <td>73</td>\n",
              "      <td>경상남도 합천군</td>\n",
              "      <td>150733</td>\n",
              "      <td>[합천군청] 4.6.(수) 13시 기준 확진자 85명 발생(합천군민 82, 타지역 ...</td>\n",
              "      <td>cbs</td>\n",
              "    </tr>\n",
              "    <tr>\n",
              "      <th>2</th>\n",
              "      <td>2022/04/06 13:00:32</td>\n",
              "      <td>244</td>\n",
              "      <td>충청북도 음성군</td>\n",
              "      <td>150732</td>\n",
              "      <td>[음성군청] 4월5일 확진자 562명 발생▲마스크착용▲환기와 외출 후 손씻기▲개인방...</td>\n",
              "      <td>cbs</td>\n",
              "    </tr>\n",
              "    <tr>\n",
              "      <th>3</th>\n",
              "      <td>2022/04/06 13:00:25</td>\n",
              "      <td>60</td>\n",
              "      <td>경상남도 밀양시</td>\n",
              "      <td>150731</td>\n",
              "      <td>[밀양시청]전시민 일상회복지원금신청안내 4.11~4.29 신청, 만19세이상 세대원...</td>\n",
              "      <td>cbs</td>\n",
              "    </tr>\n",
              "    <tr>\n",
              "      <th>4</th>\n",
              "      <td>2022/04/06 12:12:15</td>\n",
              "      <td>38</td>\n",
              "      <td>경기도 안양시</td>\n",
              "      <td>150730</td>\n",
              "      <td>[안양시청] ▲4.6.(수) 0시 기준 신규확진자 3,420명 발생\\n▲18세 이상...</td>\n",
              "      <td>cbs</td>\n",
              "    </tr>\n",
              "    <tr>\n",
              "      <th>5</th>\n",
              "      <td>2022/04/06 11:48:29</td>\n",
              "      <td>228</td>\n",
              "      <td>충청남도 부여군</td>\n",
              "      <td>150729</td>\n",
              "      <td>[부여군청] 4.6. 확진자 198명 발생 \\n▶ 보건소 신속항원검사 4월 11일부...</td>\n",
              "      <td>cbs</td>\n",
              "    </tr>\n",
              "    <tr>\n",
              "      <th>6</th>\n",
              "      <td>2022/04/06 11:46:25</td>\n",
              "      <td>216</td>\n",
              "      <td>전라북도 진안군</td>\n",
              "      <td>150728</td>\n",
              "      <td>[진안군청] 4.6.(수) 현재기준 확진자 122명(금일 67명, 전일 55명) 발...</td>\n",
              "      <td>cbs</td>\n",
              "    </tr>\n",
              "    <tr>\n",
              "      <th>7</th>\n",
              "      <td>2022/04/06 11:36:49</td>\n",
              "      <td>210</td>\n",
              "      <td>전라북도 완주군</td>\n",
              "      <td>150727</td>\n",
              "      <td>[완주군청] 4월 6일 (수) 0시 기준 확진자 514명발생 ▲행사, 외출, 모임자...</td>\n",
              "      <td>cbs</td>\n",
              "    </tr>\n",
              "    <tr>\n",
              "      <th>8</th>\n",
              "      <td>2022/04/06 11:31:11</td>\n",
              "      <td>211</td>\n",
              "      <td>전라북도 익산시</td>\n",
              "      <td>150726</td>\n",
              "      <td>[익산시청] 코로나19 확진자 급증에 따라 시민모두의 안전을 위한\\n생활방역수칙을 ...</td>\n",
              "      <td>cbs</td>\n",
              "    </tr>\n",
              "    <tr>\n",
              "      <th>9</th>\n",
              "      <td>2022/04/06 11:30:08</td>\n",
              "      <td>136</td>\n",
              "      <td>서울특별시 전체</td>\n",
              "      <td>150725</td>\n",
              "      <td>[서울시청] 4.6(수) 0시 기준 서울시 신규 확진자 52,430명 발생. 자치구...</td>\n",
              "      <td>cbs</td>\n",
              "    </tr>\n",
              "  </tbody>\n",
              "</table>\n",
              "</div>\n",
              "      <button class=\"colab-df-convert\" onclick=\"convertToInteractive('df-9766aca7-ab49-4361-b206-20e677db0848')\"\n",
              "              title=\"Convert this dataframe to an interactive table.\"\n",
              "              style=\"display:none;\">\n",
              "        \n",
              "  <svg xmlns=\"http://www.w3.org/2000/svg\" height=\"24px\"viewBox=\"0 0 24 24\"\n",
              "       width=\"24px\">\n",
              "    <path d=\"M0 0h24v24H0V0z\" fill=\"none\"/>\n",
              "    <path d=\"M18.56 5.44l.94 2.06.94-2.06 2.06-.94-2.06-.94-.94-2.06-.94 2.06-2.06.94zm-11 1L8.5 8.5l.94-2.06 2.06-.94-2.06-.94L8.5 2.5l-.94 2.06-2.06.94zm10 10l.94 2.06.94-2.06 2.06-.94-2.06-.94-.94-2.06-.94 2.06-2.06.94z\"/><path d=\"M17.41 7.96l-1.37-1.37c-.4-.4-.92-.59-1.43-.59-.52 0-1.04.2-1.43.59L10.3 9.45l-7.72 7.72c-.78.78-.78 2.05 0 2.83L4 21.41c.39.39.9.59 1.41.59.51 0 1.02-.2 1.41-.59l7.78-7.78 2.81-2.81c.8-.78.8-2.07 0-2.86zM5.41 20L4 18.59l7.72-7.72 1.47 1.35L5.41 20z\"/>\n",
              "  </svg>\n",
              "      </button>\n",
              "      \n",
              "  <style>\n",
              "    .colab-df-container {\n",
              "      display:flex;\n",
              "      flex-wrap:wrap;\n",
              "      gap: 12px;\n",
              "    }\n",
              "\n",
              "    .colab-df-convert {\n",
              "      background-color: #E8F0FE;\n",
              "      border: none;\n",
              "      border-radius: 50%;\n",
              "      cursor: pointer;\n",
              "      display: none;\n",
              "      fill: #1967D2;\n",
              "      height: 32px;\n",
              "      padding: 0 0 0 0;\n",
              "      width: 32px;\n",
              "    }\n",
              "\n",
              "    .colab-df-convert:hover {\n",
              "      background-color: #E2EBFA;\n",
              "      box-shadow: 0px 1px 2px rgba(60, 64, 67, 0.3), 0px 1px 3px 1px rgba(60, 64, 67, 0.15);\n",
              "      fill: #174EA6;\n",
              "    }\n",
              "\n",
              "    [theme=dark] .colab-df-convert {\n",
              "      background-color: #3B4455;\n",
              "      fill: #D2E3FC;\n",
              "    }\n",
              "\n",
              "    [theme=dark] .colab-df-convert:hover {\n",
              "      background-color: #434B5C;\n",
              "      box-shadow: 0px 1px 3px 1px rgba(0, 0, 0, 0.15);\n",
              "      filter: drop-shadow(0px 1px 2px rgba(0, 0, 0, 0.3));\n",
              "      fill: #FFFFFF;\n",
              "    }\n",
              "  </style>\n",
              "\n",
              "      <script>\n",
              "        const buttonEl =\n",
              "          document.querySelector('#df-9766aca7-ab49-4361-b206-20e677db0848 button.colab-df-convert');\n",
              "        buttonEl.style.display =\n",
              "          google.colab.kernel.accessAllowed ? 'block' : 'none';\n",
              "\n",
              "        async function convertToInteractive(key) {\n",
              "          const element = document.querySelector('#df-9766aca7-ab49-4361-b206-20e677db0848');\n",
              "          const dataTable =\n",
              "            await google.colab.kernel.invokeFunction('convertToInteractive',\n",
              "                                                     [key], {});\n",
              "          if (!dataTable) return;\n",
              "\n",
              "          const docLinkHtml = 'Like what you see? Visit the ' +\n",
              "            '<a target=\"_blank\" href=https://colab.research.google.com/notebooks/data_table.ipynb>data table notebook</a>'\n",
              "            + ' to learn more about interactive tables.';\n",
              "          element.innerHTML = '';\n",
              "          dataTable['output_type'] = 'display_data';\n",
              "          await google.colab.output.renderOutput(dataTable, element);\n",
              "          const docLink = document.createElement('div');\n",
              "          docLink.innerHTML = docLinkHtml;\n",
              "          element.appendChild(docLink);\n",
              "        }\n",
              "      </script>\n",
              "    </div>\n",
              "  </div>\n",
              "  "
            ]
          },
          "metadata": {},
          "execution_count": 26
        }
      ],
      "source": [
        "items = r['DisasterMsg'][1]['row']\n",
        "\n",
        "create_date = [item['create_date'] for item in items]\n",
        "location_id = [item['location_id'] for item in items]\n",
        "location_name = [item['location_name'] for item in items]\n",
        "md101_sn = [item['md101_sn'] for item in items]\n",
        "msg = [item['msg'] for item in items]\n",
        "send_platform = [item['send_platform'] for item in items]\n",
        "\n",
        "create_date = pd.Series(create_date)\n",
        "location_id = pd.Series(location_id)\n",
        "location_name = pd.Series(location_name)\n",
        "md101_sn = pd.Series(md101_sn)\n",
        "msg = pd.Series(msg)\n",
        "send_platform = pd.Series(send_platform)\n",
        "\n",
        "df = pd.DataFrame({'create_date': create_date, 'location_id': location_id, 'location_name': location_name, 'md101_sn': md101_sn, 'msg': msg, 'send_platform': send_platform})\n",
        "df"
      ]
    },
    {
      "cell_type": "code",
      "execution_count": 32,
      "metadata": {
        "id": "j35oog3u3KIS"
      },
      "outputs": [],
      "source": [
        "def test(location_name):\n",
        "  URL = ('http://apis.data.go.kr/1741000/DisasterMsg3/'\n",
        "       'getDisasterMsg1List?'\n",
        "       'ServiceKey=Z4qfGFhDCw7yr%2BxK22AeHbVi6UACobIZBRA7q7XVFLcGPT%2BKFp1%2FjMEenBGy8vxz7058gq9EC%2BQw7HQJ4j66Rg%3D%3D'\n",
        "       '&location_name='+location_name+\n",
        "       '&type=json'\n",
        "       '&pageNo=1'\n",
        "       '&numOfRows=10')\n",
        "  \n",
        "  response = requests.get(URL)\n",
        "  r = response.json()\n",
        "  items = r['DisasterMsg'][1]['row']\n",
        "\n",
        "  create_date = [item['create_date'] for item in items]\n",
        "  location_id = [item['location_id'] for item in items]\n",
        "  location_name = [item['location_name'] for item in items]\n",
        "  md101_sn = [item['md101_sn'] for item in items]\n",
        "  msg = [item['msg'] for item in items]\n",
        "  send_platform = [item['send_platform'] for item in items]\n",
        "\n",
        "  create_date = pd.Series(create_date)\n",
        "  location_id = pd.Series(location_id)\n",
        "  location_name = pd.Series(location_name)\n",
        "  md101_sn = pd.Series(md101_sn)\n",
        "  msg = pd.Series(msg)\n",
        "  send_platform = pd.Series(send_platform)\n",
        "\n",
        "  df = pd.DataFrame({'create_date': create_date, 'location_id': location_id, 'location_name': location_name, 'md101_sn': md101_sn, 'msg': msg, 'send_platform': send_platform})\n",
        "  return df"
      ]
    },
    {
      "cell_type": "code",
      "source": [
        "iface = gr.Interface(test, gr.inputs.Dropdown(['전라남도 보성군', '경상남도 합천군', '충청북도 음성군', '경상남도 밀양시', '경기도 안양시', '충청남도 부여군', '전라북도 진안군', '전라북도 완주군', '전라북도 익산시', '서울특별시 전체']), outputs=['dataframe'])\n",
        "iface.launch(debug=True)"
      ],
      "metadata": {
        "colab": {
          "base_uri": "https://localhost:8080/",
          "height": 593
        },
        "id": "oVet9HVft9iV",
        "outputId": "8961a038-55d4-4110-ec7e-331c393856b7"
      },
      "execution_count": null,
      "outputs": [
        {
          "output_type": "stream",
          "name": "stdout",
          "text": [
            "Colab notebook detected. This cell will run indefinitely so that you can see errors and logs. To turn off, set debug=False in launch().\n",
            "Running on public URL: https://45792.gradio.app\n",
            "\n",
            "This share link expires in 72 hours. For free permanent hosting, check out Spaces (https://huggingface.co/spaces)\n"
          ]
        },
        {
          "output_type": "display_data",
          "data": {
            "text/plain": [
              "<IPython.lib.display.IFrame at 0x7f303ef47290>"
            ],
            "text/html": [
              "\n",
              "        <iframe\n",
              "            width=\"900\"\n",
              "            height=\"500\"\n",
              "            src=\"https://45792.gradio.app\"\n",
              "            frameborder=\"0\"\n",
              "            allowfullscreen\n",
              "        ></iframe>\n",
              "        "
            ]
          },
          "metadata": {}
        }
      ]
    }
  ],
  "metadata": {
    "colab": {
      "collapsed_sections": [],
      "name": "Untitled2.ipynb의 사본",
      "provenance": [],
      "authorship_tag": "ABX9TyNKFW5li08lfxJUia5rIcWf",
      "include_colab_link": true
    },
    "kernelspec": {
      "display_name": "Python 3",
      "name": "python3"
    },
    "language_info": {
      "name": "python"
    }
  },
  "nbformat": 4,
  "nbformat_minor": 0
}