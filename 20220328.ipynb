{
  "cells": [
    {
      "cell_type": "markdown",
      "metadata": {
        "id": "view-in-github",
        "colab_type": "text"
      },
      "source": [
        "<a href=\"https://colab.research.google.com/github/chzwldn/class2022Spring/blob/main/20220328.ipynb\" target=\"_parent\"><img src=\"https://colab.research.google.com/assets/colab-badge.svg\" alt=\"Open In Colab\"/></a>"
      ]
    },
    {
      "cell_type": "code",
      "execution_count": 20,
      "metadata": {
        "colab": {
          "base_uri": "https://localhost:8080/"
        },
        "id": "xjaE_eXbrWUv",
        "outputId": "44a88c69-a059-438f-9e0c-03f5c4cbf765"
      },
      "outputs": [
        {
          "output_type": "stream",
          "name": "stdout",
          "text": [
            "Requirement already satisfied: gradio in /usr/local/lib/python3.7/dist-packages (2.9.1)\n",
            "Requirement already satisfied: aiohttp in /usr/local/lib/python3.7/dist-packages (from gradio) (3.8.1)\n",
            "Requirement already satisfied: pandas in /usr/local/lib/python3.7/dist-packages (from gradio) (1.3.5)\n",
            "Requirement already satisfied: pycryptodome in /usr/local/lib/python3.7/dist-packages (from gradio) (3.14.1)\n",
            "Requirement already satisfied: markdown-it-py[linkify,plugins] in /usr/local/lib/python3.7/dist-packages (from gradio) (2.0.1)\n",
            "Requirement already satisfied: pydub in /usr/local/lib/python3.7/dist-packages (from gradio) (0.25.1)\n",
            "Requirement already satisfied: ffmpy in /usr/local/lib/python3.7/dist-packages (from gradio) (0.3.0)\n",
            "Requirement already satisfied: python-multipart in /usr/local/lib/python3.7/dist-packages (from gradio) (0.0.5)\n",
            "Requirement already satisfied: fastapi in /usr/local/lib/python3.7/dist-packages (from gradio) (0.75.1)\n",
            "Requirement already satisfied: paramiko in /usr/local/lib/python3.7/dist-packages (from gradio) (2.10.3)\n",
            "Requirement already satisfied: numpy in /usr/local/lib/python3.7/dist-packages (from gradio) (1.21.5)\n",
            "Requirement already satisfied: orjson in /usr/local/lib/python3.7/dist-packages (from gradio) (3.6.7)\n",
            "Requirement already satisfied: pillow in /usr/local/lib/python3.7/dist-packages (from gradio) (7.1.2)\n",
            "Requirement already satisfied: matplotlib in /usr/local/lib/python3.7/dist-packages (from gradio) (3.2.2)\n",
            "Requirement already satisfied: uvicorn in /usr/local/lib/python3.7/dist-packages (from gradio) (0.17.6)\n",
            "Requirement already satisfied: analytics-python in /usr/local/lib/python3.7/dist-packages (from gradio) (1.4.0)\n",
            "Requirement already satisfied: requests in /usr/local/lib/python3.7/dist-packages (from gradio) (2.23.0)\n",
            "Requirement already satisfied: asynctest==0.13.0 in /usr/local/lib/python3.7/dist-packages (from aiohttp->gradio) (0.13.0)\n",
            "Requirement already satisfied: typing-extensions>=3.7.4 in /usr/local/lib/python3.7/dist-packages (from aiohttp->gradio) (3.10.0.2)\n",
            "Requirement already satisfied: yarl<2.0,>=1.0 in /usr/local/lib/python3.7/dist-packages (from aiohttp->gradio) (1.7.2)\n",
            "Requirement already satisfied: multidict<7.0,>=4.5 in /usr/local/lib/python3.7/dist-packages (from aiohttp->gradio) (6.0.2)\n",
            "Requirement already satisfied: charset-normalizer<3.0,>=2.0 in /usr/local/lib/python3.7/dist-packages (from aiohttp->gradio) (2.0.12)\n",
            "Requirement already satisfied: frozenlist>=1.1.1 in /usr/local/lib/python3.7/dist-packages (from aiohttp->gradio) (1.3.0)\n",
            "Requirement already satisfied: aiosignal>=1.1.2 in /usr/local/lib/python3.7/dist-packages (from aiohttp->gradio) (1.2.0)\n",
            "Requirement already satisfied: async-timeout<5.0,>=4.0.0a3 in /usr/local/lib/python3.7/dist-packages (from aiohttp->gradio) (4.0.2)\n",
            "Requirement already satisfied: attrs>=17.3.0 in /usr/local/lib/python3.7/dist-packages (from aiohttp->gradio) (21.4.0)\n",
            "Requirement already satisfied: idna>=2.0 in /usr/local/lib/python3.7/dist-packages (from yarl<2.0,>=1.0->aiohttp->gradio) (2.10)\n",
            "Requirement already satisfied: backoff==1.10.0 in /usr/local/lib/python3.7/dist-packages (from analytics-python->gradio) (1.10.0)\n",
            "Requirement already satisfied: six>=1.5 in /usr/local/lib/python3.7/dist-packages (from analytics-python->gradio) (1.15.0)\n",
            "Requirement already satisfied: python-dateutil>2.1 in /usr/local/lib/python3.7/dist-packages (from analytics-python->gradio) (2.8.2)\n",
            "Requirement already satisfied: monotonic>=1.5 in /usr/local/lib/python3.7/dist-packages (from analytics-python->gradio) (1.6)\n",
            "Requirement already satisfied: urllib3!=1.25.0,!=1.25.1,<1.26,>=1.21.1 in /usr/local/lib/python3.7/dist-packages (from requests->gradio) (1.24.3)\n",
            "Requirement already satisfied: chardet<4,>=3.0.2 in /usr/local/lib/python3.7/dist-packages (from requests->gradio) (3.0.4)\n",
            "Requirement already satisfied: certifi>=2017.4.17 in /usr/local/lib/python3.7/dist-packages (from requests->gradio) (2021.10.8)\n",
            "Requirement already satisfied: pydantic!=1.7,!=1.7.1,!=1.7.2,!=1.7.3,!=1.8,!=1.8.1,<2.0.0,>=1.6.2 in /usr/local/lib/python3.7/dist-packages (from fastapi->gradio) (1.9.0)\n",
            "Requirement already satisfied: starlette==0.17.1 in /usr/local/lib/python3.7/dist-packages (from fastapi->gradio) (0.17.1)\n",
            "Requirement already satisfied: anyio<4,>=3.0.0 in /usr/local/lib/python3.7/dist-packages (from starlette==0.17.1->fastapi->gradio) (3.5.0)\n",
            "Requirement already satisfied: sniffio>=1.1 in /usr/local/lib/python3.7/dist-packages (from anyio<4,>=3.0.0->starlette==0.17.1->fastapi->gradio) (1.2.0)\n",
            "Requirement already satisfied: mdurl~=0.1 in /usr/local/lib/python3.7/dist-packages (from markdown-it-py[linkify,plugins]->gradio) (0.1.0)\n",
            "Requirement already satisfied: mdit-py-plugins in /usr/local/lib/python3.7/dist-packages (from markdown-it-py[linkify,plugins]->gradio) (0.3.0)\n",
            "Requirement already satisfied: linkify-it-py~=1.0 in /usr/local/lib/python3.7/dist-packages (from markdown-it-py[linkify,plugins]->gradio) (1.0.3)\n",
            "Requirement already satisfied: uc-micro-py in /usr/local/lib/python3.7/dist-packages (from linkify-it-py~=1.0->markdown-it-py[linkify,plugins]->gradio) (1.0.1)\n",
            "Requirement already satisfied: pyparsing!=2.0.4,!=2.1.2,!=2.1.6,>=2.0.1 in /usr/local/lib/python3.7/dist-packages (from matplotlib->gradio) (3.0.7)\n",
            "Requirement already satisfied: kiwisolver>=1.0.1 in /usr/local/lib/python3.7/dist-packages (from matplotlib->gradio) (1.4.0)\n",
            "Requirement already satisfied: cycler>=0.10 in /usr/local/lib/python3.7/dist-packages (from matplotlib->gradio) (0.11.0)\n",
            "Requirement already satisfied: pytz>=2017.3 in /usr/local/lib/python3.7/dist-packages (from pandas->gradio) (2018.9)\n",
            "Requirement already satisfied: cryptography>=2.5 in /usr/local/lib/python3.7/dist-packages (from paramiko->gradio) (36.0.2)\n",
            "Requirement already satisfied: pynacl>=1.0.1 in /usr/local/lib/python3.7/dist-packages (from paramiko->gradio) (1.5.0)\n",
            "Requirement already satisfied: bcrypt>=3.1.3 in /usr/local/lib/python3.7/dist-packages (from paramiko->gradio) (3.2.0)\n",
            "Requirement already satisfied: cffi>=1.1 in /usr/local/lib/python3.7/dist-packages (from bcrypt>=3.1.3->paramiko->gradio) (1.15.0)\n",
            "Requirement already satisfied: pycparser in /usr/local/lib/python3.7/dist-packages (from cffi>=1.1->bcrypt>=3.1.3->paramiko->gradio) (2.21)\n",
            "Requirement already satisfied: h11>=0.8 in /usr/local/lib/python3.7/dist-packages (from uvicorn->gradio) (0.13.0)\n",
            "Requirement already satisfied: click>=7.0 in /usr/local/lib/python3.7/dist-packages (from uvicorn->gradio) (7.1.2)\n",
            "Requirement already satisfied: asgiref>=3.4.0 in /usr/local/lib/python3.7/dist-packages (from uvicorn->gradio) (3.5.0)\n"
          ]
        }
      ],
      "source": [
        "!pip install gradio\n",
        "import gradio as gr\n",
        "import requests\n",
        "import pandas as pd"
      ]
    },
    {
      "cell_type": "code",
      "execution_count": 21,
      "metadata": {
        "id": "BOaOzTijvnMo"
      },
      "outputs": [],
      "source": [
        "URL = ('http://apis.data.go.kr/1741000/DisasterMsg3/'\n",
        "       'getDisasterMsg1List?'\n",
        "       'ServiceKey=Z4qfGFhDCw7yr%2BxK22AeHbVi6UACobIZBRA7q7XVFLcGPT%2BKFp1%2FjMEenBGy8vxz7058gq9EC%2BQw7HQJ4j66Rg%3D%3D'\n",
        "       '&type=json'\n",
        "       '&pageNo=1'\n",
        "       '&numOfRows=10')\n",
        "response = requests.get(URL)"
      ]
    },
    {
      "cell_type": "code",
      "execution_count": 22,
      "metadata": {
        "colab": {
          "base_uri": "https://localhost:8080/"
        },
        "id": "Ruf5CfJk1Dbc",
        "outputId": "593a4cac-cee3-42ae-ad87-7f18e6152252"
      },
      "outputs": [
        {
          "output_type": "execute_result",
          "data": {
            "text/plain": [
              "<Response [200]>"
            ]
          },
          "metadata": {},
          "execution_count": 22
        }
      ],
      "source": [
        "response"
      ]
    },
    {
      "cell_type": "markdown",
      "metadata": {
        "id": "G7jceExX3Ceu"
      },
      "source": [
        "http://jsonviewer.stack.hu/ (copy json here to view json)"
      ]
    },
    {
      "cell_type": "code",
      "execution_count": 23,
      "metadata": {
        "colab": {
          "base_uri": "https://localhost:8080/"
        },
        "id": "DWJWWIC53DgU",
        "outputId": "d0fc6c47-444e-4916-cdab-96665798a0bc"
      },
      "outputs": [
        {
          "output_type": "execute_result",
          "data": {
            "text/plain": [
              "{'DisasterMsg': [{'head': [{'totalCount': 130157},\n",
              "    {'numOfRows': '10', 'pageNo': '1', 'type': 'JSON'},\n",
              "    {'RESULT': {'resultCode': 'INFO-0', 'resultMsg': 'NOMAL SERVICE'}}]},\n",
              "  {'row': [{'create_date': '2022/04/05 18:44:32',\n",
              "     'location_id': '23',\n",
              "     'location_name': '경기도 고양시',\n",
              "     'md101_sn': '150634',\n",
              "     'msg': '[경기북부경찰청] 고양시에서 실종된 문병훈씨(남, 80세)를 찾습니다 - 165cm, 노란색잠바, 검정내복 상하의, 검정운동화\\nvo.la/2yC0HI / ☎182',\n",
              "     'send_platform': 'cbs'},\n",
              "    {'create_date': '2022/04/05 18:39:34',\n",
              "     'location_id': '30',\n",
              "     'location_name': '경기도 남양주시',\n",
              "     'md101_sn': '150633',\n",
              "     'msg': '[남양주시청] 4.5.(화) 코로나19 확진 3,627명. 세부 사항은 시 홈페이지 참고 바랍니다. 재택치료 안내 c11.kr/wzp2',\n",
              "     'send_platform': 'cbs'},\n",
              "    {'create_date': '2022/04/05 18:34:19',\n",
              "     'location_id': '27',\n",
              "     'location_name': '경기도 구리시',\n",
              "     'md101_sn': '150632',\n",
              "     'msg': '[구리시청] 4.5.(화) 신규확진자 1,074명 발생 bit.ly/3LLkNTp / 확진환자 재택관리지원 상담센터 운영 bit.ly/3x0pxAl',\n",
              "     'send_platform': 'cbs'},\n",
              "    {'create_date': '2022/04/05 18:30:06',\n",
              "     'location_id': '47',\n",
              "     'location_name': '경기도 이천시',\n",
              "     'md101_sn': '150631',\n",
              "     'msg': '[이천시청] 4월 5일 확진자 1,313명 발생 / 일상생활 속 악수 안하기, 마스크 착용 등 방역수칙 준수 바랍니다.',\n",
              "     'send_platform': 'cbs'},\n",
              "    {'create_date': '2022/04/05 18:21:26',\n",
              "     'location_id': '26',\n",
              "     'location_name': '경기도 광주시',\n",
              "     'md101_sn': '150630',\n",
              "     'msg': '[광주시청] 4월 5일 17시 기준 확진자 2,129명 발생. 4월 11일부터 보건소 선별진료소(임시검사소) 개인용 신속항원검사 중단되오니 참고바랍니다.',\n",
              "     'send_platform': 'cbs'},\n",
              "    {'create_date': '2022/04/05 18:09:19',\n",
              "     'location_id': '67',\n",
              "     'location_name': '경상남도 창녕군',\n",
              "     'md101_sn': '150629',\n",
              "     'msg': '[창녕군청]4.5.(화) 18시 기준 확진자 222명▷병·의원 전문가용 신속항원검사 양성 시 확진 인정▷재택치료자 행동요령안내 https://c11.kr/wpv5',\n",
              "     'send_platform': 'cbs'},\n",
              "    {'create_date': '2022/04/05 18:08:32',\n",
              "     'location_id': '225',\n",
              "     'location_name': '충청남도 논산시',\n",
              "     'md101_sn': '150628',\n",
              "     'msg': '[논산시청] 4월5일 확진자 797명(지역감염 546, 타지역거주 54, 격리중 57, 훈련소 140)\\n▶4월11부터 보건소, 시청민원실 신속항원검사를 중단합니다',\n",
              "     'send_platform': 'cbs'},\n",
              "    {'create_date': '2022/04/05 18:07:05',\n",
              "     'location_id': '236',\n",
              "     'location_name': '충청남도 태안군',\n",
              "     'md101_sn': '150627',\n",
              "     'msg': '[태안군청] \\n4.5.(화)확진자309명발생[12,027~12,335번]▲사회적거리두기 2주시행(4.4.~4.17.)▲사적모임최대10인, 식당·카페 등 24시까지',\n",
              "     'send_platform': 'cbs'},\n",
              "    {'create_date': '2022/04/05 18:04:49',\n",
              "     'location_id': '233',\n",
              "     'location_name': '충청남도 예산군',\n",
              "     'md101_sn': '150626',\n",
              "     'msg': '[예산군청]4월5일 18:00기준 예산394명 발생, 총16,062명/▲개인방역수칙(KF94마스크착용, 주기적환기, 손소독 등)준수 및 사적모임 자제바랍니다.',\n",
              "     'send_platform': 'cbs'},\n",
              "    {'create_date': '2022/04/05 18:02:35',\n",
              "     'location_id': '235',\n",
              "     'location_name': '충청남도 청양군',\n",
              "     'md101_sn': '150625',\n",
              "     'msg': '[청양군청] 4월 5일 18시 기준 확진자 147명 발생(전체 5,502명)▲4.11.(월)부터 보건의료원 선별진료소에서 신속항원검사는 중단됩니다.',\n",
              "     'send_platform': 'cbs'}]}]}"
            ]
          },
          "metadata": {},
          "execution_count": 23
        }
      ],
      "source": [
        "r = response.json()\n",
        "r"
      ]
    },
    {
      "cell_type": "code",
      "execution_count": 37,
      "metadata": {
        "colab": {
          "base_uri": "https://localhost:8080/",
          "height": 403
        },
        "id": "ZZfeEe6y3dOy",
        "outputId": "f975efb2-bdb4-42ef-8660-047be613618b"
      },
      "outputs": [
        {
          "output_type": "execute_result",
          "data": {
            "text/plain": [
              "           create_date location_id location_name md101_sn  \\\n",
              "0  2022/04/05 18:44:32          23       경기도 고양시   150634   \n",
              "1  2022/04/05 18:39:34          30      경기도 남양주시   150633   \n",
              "2  2022/04/05 18:34:19          27       경기도 구리시   150632   \n",
              "3  2022/04/05 18:30:06          47       경기도 이천시   150631   \n",
              "4  2022/04/05 18:21:26          26       경기도 광주시   150630   \n",
              "5  2022/04/05 18:09:19          67      경상남도 창녕군   150629   \n",
              "6  2022/04/05 18:08:32         225      충청남도 논산시   150628   \n",
              "7  2022/04/05 18:07:05         236      충청남도 태안군   150627   \n",
              "8  2022/04/05 18:04:49         233      충청남도 예산군   150626   \n",
              "9  2022/04/05 18:02:35         235      충청남도 청양군   150625   \n",
              "\n",
              "                                                 msg send_platform  \n",
              "0  [경기북부경찰청] 고양시에서 실종된 문병훈씨(남, 80세)를 찾습니다 - 165cm...           cbs  \n",
              "1  [남양주시청] 4.5.(화) 코로나19 확진 3,627명. 세부 사항은 시 홈페이지...           cbs  \n",
              "2  [구리시청] 4.5.(화) 신규확진자 1,074명 발생 bit.ly/3LLkNTp ...           cbs  \n",
              "3  [이천시청] 4월 5일 확진자 1,313명 발생 / 일상생활 속 악수 안하기, 마스...           cbs  \n",
              "4  [광주시청] 4월 5일 17시 기준 확진자 2,129명 발생. 4월 11일부터 보건...           cbs  \n",
              "5  [창녕군청]4.5.(화) 18시 기준 확진자 222명▷병·의원 전문가용 신속항원검사...           cbs  \n",
              "6  [논산시청] 4월5일 확진자 797명(지역감염 546, 타지역거주 54, 격리중 5...           cbs  \n",
              "7  [태안군청] \\n4.5.(화)확진자309명발생[12,027~12,335번]▲사회적거...           cbs  \n",
              "8  [예산군청]4월5일 18:00기준 예산394명 발생, 총16,062명/▲개인방역수칙...           cbs  \n",
              "9  [청양군청] 4월 5일 18시 기준 확진자 147명 발생(전체 5,502명)▲4.1...           cbs  "
            ],
            "text/html": [
              "\n",
              "  <div id=\"df-104082b4-7938-469d-a145-9b4ab2cb122a\">\n",
              "    <div class=\"colab-df-container\">\n",
              "      <div>\n",
              "<style scoped>\n",
              "    .dataframe tbody tr th:only-of-type {\n",
              "        vertical-align: middle;\n",
              "    }\n",
              "\n",
              "    .dataframe tbody tr th {\n",
              "        vertical-align: top;\n",
              "    }\n",
              "\n",
              "    .dataframe thead th {\n",
              "        text-align: right;\n",
              "    }\n",
              "</style>\n",
              "<table border=\"1\" class=\"dataframe\">\n",
              "  <thead>\n",
              "    <tr style=\"text-align: right;\">\n",
              "      <th></th>\n",
              "      <th>create_date</th>\n",
              "      <th>location_id</th>\n",
              "      <th>location_name</th>\n",
              "      <th>md101_sn</th>\n",
              "      <th>msg</th>\n",
              "      <th>send_platform</th>\n",
              "    </tr>\n",
              "  </thead>\n",
              "  <tbody>\n",
              "    <tr>\n",
              "      <th>0</th>\n",
              "      <td>2022/04/05 18:44:32</td>\n",
              "      <td>23</td>\n",
              "      <td>경기도 고양시</td>\n",
              "      <td>150634</td>\n",
              "      <td>[경기북부경찰청] 고양시에서 실종된 문병훈씨(남, 80세)를 찾습니다 - 165cm...</td>\n",
              "      <td>cbs</td>\n",
              "    </tr>\n",
              "    <tr>\n",
              "      <th>1</th>\n",
              "      <td>2022/04/05 18:39:34</td>\n",
              "      <td>30</td>\n",
              "      <td>경기도 남양주시</td>\n",
              "      <td>150633</td>\n",
              "      <td>[남양주시청] 4.5.(화) 코로나19 확진 3,627명. 세부 사항은 시 홈페이지...</td>\n",
              "      <td>cbs</td>\n",
              "    </tr>\n",
              "    <tr>\n",
              "      <th>2</th>\n",
              "      <td>2022/04/05 18:34:19</td>\n",
              "      <td>27</td>\n",
              "      <td>경기도 구리시</td>\n",
              "      <td>150632</td>\n",
              "      <td>[구리시청] 4.5.(화) 신규확진자 1,074명 발생 bit.ly/3LLkNTp ...</td>\n",
              "      <td>cbs</td>\n",
              "    </tr>\n",
              "    <tr>\n",
              "      <th>3</th>\n",
              "      <td>2022/04/05 18:30:06</td>\n",
              "      <td>47</td>\n",
              "      <td>경기도 이천시</td>\n",
              "      <td>150631</td>\n",
              "      <td>[이천시청] 4월 5일 확진자 1,313명 발생 / 일상생활 속 악수 안하기, 마스...</td>\n",
              "      <td>cbs</td>\n",
              "    </tr>\n",
              "    <tr>\n",
              "      <th>4</th>\n",
              "      <td>2022/04/05 18:21:26</td>\n",
              "      <td>26</td>\n",
              "      <td>경기도 광주시</td>\n",
              "      <td>150630</td>\n",
              "      <td>[광주시청] 4월 5일 17시 기준 확진자 2,129명 발생. 4월 11일부터 보건...</td>\n",
              "      <td>cbs</td>\n",
              "    </tr>\n",
              "    <tr>\n",
              "      <th>5</th>\n",
              "      <td>2022/04/05 18:09:19</td>\n",
              "      <td>67</td>\n",
              "      <td>경상남도 창녕군</td>\n",
              "      <td>150629</td>\n",
              "      <td>[창녕군청]4.5.(화) 18시 기준 확진자 222명▷병·의원 전문가용 신속항원검사...</td>\n",
              "      <td>cbs</td>\n",
              "    </tr>\n",
              "    <tr>\n",
              "      <th>6</th>\n",
              "      <td>2022/04/05 18:08:32</td>\n",
              "      <td>225</td>\n",
              "      <td>충청남도 논산시</td>\n",
              "      <td>150628</td>\n",
              "      <td>[논산시청] 4월5일 확진자 797명(지역감염 546, 타지역거주 54, 격리중 5...</td>\n",
              "      <td>cbs</td>\n",
              "    </tr>\n",
              "    <tr>\n",
              "      <th>7</th>\n",
              "      <td>2022/04/05 18:07:05</td>\n",
              "      <td>236</td>\n",
              "      <td>충청남도 태안군</td>\n",
              "      <td>150627</td>\n",
              "      <td>[태안군청] \\n4.5.(화)확진자309명발생[12,027~12,335번]▲사회적거...</td>\n",
              "      <td>cbs</td>\n",
              "    </tr>\n",
              "    <tr>\n",
              "      <th>8</th>\n",
              "      <td>2022/04/05 18:04:49</td>\n",
              "      <td>233</td>\n",
              "      <td>충청남도 예산군</td>\n",
              "      <td>150626</td>\n",
              "      <td>[예산군청]4월5일 18:00기준 예산394명 발생, 총16,062명/▲개인방역수칙...</td>\n",
              "      <td>cbs</td>\n",
              "    </tr>\n",
              "    <tr>\n",
              "      <th>9</th>\n",
              "      <td>2022/04/05 18:02:35</td>\n",
              "      <td>235</td>\n",
              "      <td>충청남도 청양군</td>\n",
              "      <td>150625</td>\n",
              "      <td>[청양군청] 4월 5일 18시 기준 확진자 147명 발생(전체 5,502명)▲4.1...</td>\n",
              "      <td>cbs</td>\n",
              "    </tr>\n",
              "  </tbody>\n",
              "</table>\n",
              "</div>\n",
              "      <button class=\"colab-df-convert\" onclick=\"convertToInteractive('df-104082b4-7938-469d-a145-9b4ab2cb122a')\"\n",
              "              title=\"Convert this dataframe to an interactive table.\"\n",
              "              style=\"display:none;\">\n",
              "        \n",
              "  <svg xmlns=\"http://www.w3.org/2000/svg\" height=\"24px\"viewBox=\"0 0 24 24\"\n",
              "       width=\"24px\">\n",
              "    <path d=\"M0 0h24v24H0V0z\" fill=\"none\"/>\n",
              "    <path d=\"M18.56 5.44l.94 2.06.94-2.06 2.06-.94-2.06-.94-.94-2.06-.94 2.06-2.06.94zm-11 1L8.5 8.5l.94-2.06 2.06-.94-2.06-.94L8.5 2.5l-.94 2.06-2.06.94zm10 10l.94 2.06.94-2.06 2.06-.94-2.06-.94-.94-2.06-.94 2.06-2.06.94z\"/><path d=\"M17.41 7.96l-1.37-1.37c-.4-.4-.92-.59-1.43-.59-.52 0-1.04.2-1.43.59L10.3 9.45l-7.72 7.72c-.78.78-.78 2.05 0 2.83L4 21.41c.39.39.9.59 1.41.59.51 0 1.02-.2 1.41-.59l7.78-7.78 2.81-2.81c.8-.78.8-2.07 0-2.86zM5.41 20L4 18.59l7.72-7.72 1.47 1.35L5.41 20z\"/>\n",
              "  </svg>\n",
              "      </button>\n",
              "      \n",
              "  <style>\n",
              "    .colab-df-container {\n",
              "      display:flex;\n",
              "      flex-wrap:wrap;\n",
              "      gap: 12px;\n",
              "    }\n",
              "\n",
              "    .colab-df-convert {\n",
              "      background-color: #E8F0FE;\n",
              "      border: none;\n",
              "      border-radius: 50%;\n",
              "      cursor: pointer;\n",
              "      display: none;\n",
              "      fill: #1967D2;\n",
              "      height: 32px;\n",
              "      padding: 0 0 0 0;\n",
              "      width: 32px;\n",
              "    }\n",
              "\n",
              "    .colab-df-convert:hover {\n",
              "      background-color: #E2EBFA;\n",
              "      box-shadow: 0px 1px 2px rgba(60, 64, 67, 0.3), 0px 1px 3px 1px rgba(60, 64, 67, 0.15);\n",
              "      fill: #174EA6;\n",
              "    }\n",
              "\n",
              "    [theme=dark] .colab-df-convert {\n",
              "      background-color: #3B4455;\n",
              "      fill: #D2E3FC;\n",
              "    }\n",
              "\n",
              "    [theme=dark] .colab-df-convert:hover {\n",
              "      background-color: #434B5C;\n",
              "      box-shadow: 0px 1px 3px 1px rgba(0, 0, 0, 0.15);\n",
              "      filter: drop-shadow(0px 1px 2px rgba(0, 0, 0, 0.3));\n",
              "      fill: #FFFFFF;\n",
              "    }\n",
              "  </style>\n",
              "\n",
              "      <script>\n",
              "        const buttonEl =\n",
              "          document.querySelector('#df-104082b4-7938-469d-a145-9b4ab2cb122a button.colab-df-convert');\n",
              "        buttonEl.style.display =\n",
              "          google.colab.kernel.accessAllowed ? 'block' : 'none';\n",
              "\n",
              "        async function convertToInteractive(key) {\n",
              "          const element = document.querySelector('#df-104082b4-7938-469d-a145-9b4ab2cb122a');\n",
              "          const dataTable =\n",
              "            await google.colab.kernel.invokeFunction('convertToInteractive',\n",
              "                                                     [key], {});\n",
              "          if (!dataTable) return;\n",
              "\n",
              "          const docLinkHtml = 'Like what you see? Visit the ' +\n",
              "            '<a target=\"_blank\" href=https://colab.research.google.com/notebooks/data_table.ipynb>data table notebook</a>'\n",
              "            + ' to learn more about interactive tables.';\n",
              "          element.innerHTML = '';\n",
              "          dataTable['output_type'] = 'display_data';\n",
              "          await google.colab.output.renderOutput(dataTable, element);\n",
              "          const docLink = document.createElement('div');\n",
              "          docLink.innerHTML = docLinkHtml;\n",
              "          element.appendChild(docLink);\n",
              "        }\n",
              "      </script>\n",
              "    </div>\n",
              "  </div>\n",
              "  "
            ]
          },
          "metadata": {},
          "execution_count": 37
        }
      ],
      "source": [
        "items = r['DisasterMsg'][1]['row']\n",
        "\n",
        "create_date = [item['create_date'] for item in items]\n",
        "location_id = [item['location_id'] for item in items]\n",
        "location_name = [item['location_name'] for item in items]\n",
        "md101_sn = [item['md101_sn'] for item in items]\n",
        "msg = [item['msg'] for item in items]\n",
        "send_platform = [item['send_platform'] for item in items]\n",
        "\n",
        "create_date = pd.Series(create_date)\n",
        "location_id = pd.Series(location_id)\n",
        "location_name = pd.Series(location_name)\n",
        "md101_sn = pd.Series(md101_sn)\n",
        "msg = pd.Series(msg)\n",
        "send_platform = pd.Series(send_platform)\n",
        "\n",
        "df = pd.DataFrame({'create_date': create_date, 'location_id': location_id, 'location_name': location_name, 'md101_sn': md101_sn, 'msg': msg, 'send_platform': send_platform})\n",
        "df"
      ]
    },
    {
      "cell_type": "code",
      "execution_count": 35,
      "metadata": {
        "id": "j35oog3u3KIS"
      },
      "outputs": [],
      "source": [
        "def test(location_name):\n",
        "  URL = ('http://apis.data.go.kr/1741000/DisasterMsg3/'\n",
        "       'getDisasterMsg1List?'\n",
        "       'ServiceKey=Z4qfGFhDCw7yr%2BxK22AeHbVi6UACobIZBRA7q7XVFLcGPT%2BKFp1%2FjMEenBGy8vxz7058gq9EC%2BQw7HQJ4j66Rg%3D%3D'\n",
        "       '&type=json'\n",
        "       '&pageNo=1'\n",
        "       '&numOfRows=10')\n",
        "  \n",
        "  response = requests.get(URL)\n",
        "  r = response.json()\n",
        "  items = r['DisasterMsg'][1]['row']\n",
        "\n",
        "  create_date = [item['create_date'] for item in items]\n",
        "  location_id = [item['location_id'] for item in items]\n",
        "  location_name = [item['location_name'] for item in items]\n",
        "  md101_sn = [item['md101_sn'] for item in items]\n",
        "  msg = [item['msg'] for item in items]\n",
        "  send_platform = [item['send_platform'] for item in items]\n",
        "\n",
        "  create_date = pd.Series(create_date)\n",
        "  location_id = pd.Series(location_id)\n",
        "  location_name = pd.Series(location_name)\n",
        "  md101_sn = pd.Series(md101_sn)\n",
        "  msg = pd.Series(msg)\n",
        "  send_platform = pd.Series(send_platform)\n",
        "\n",
        "  df = pd.DataFrame({'create_date': create_date, 'location_id': location_id, 'location_name': location_name, 'md101_sn': md101_sn, 'msg': msg, 'send_platform': send_platform})\n",
        "  return df"
      ]
    },
    {
      "cell_type": "code",
      "source": [
        "iface = gr.Interface(test, gr.inputs.Dropdown(['경기도 고양시', '경기도 남양주시', '경기도 구리시', '경기도 이천시', '경기도 광주시', '경상남도 창녕군', '충청남도 논산시', '충청남도 태안군', '충청남도 예산군', '충청남도 청양군']), outputs=['dataframe'])\n",
        "iface.launch(debug=True)"
      ],
      "metadata": {
        "colab": {
          "base_uri": "https://localhost:8080/",
          "height": 609
        },
        "id": "oVet9HVft9iV",
        "outputId": "f8464459-be11-4b7c-e387-1ea09ad20d5d"
      },
      "execution_count": null,
      "outputs": [
        {
          "output_type": "stream",
          "name": "stdout",
          "text": [
            "Colab notebook detected. This cell will run indefinitely so that you can see errors and logs. To turn off, set debug=False in launch().\n",
            "Running on public URL: https://34218.gradio.app\n",
            "\n",
            "This share link expires in 72 hours. For free permanent hosting, check out Spaces (https://huggingface.co/spaces)\n"
          ]
        },
        {
          "output_type": "display_data",
          "data": {
            "text/plain": [
              "<IPython.lib.display.IFrame at 0x7f74512eda10>"
            ],
            "text/html": [
              "\n",
              "        <iframe\n",
              "            width=\"900\"\n",
              "            height=\"500\"\n",
              "            src=\"https://34218.gradio.app\"\n",
              "            frameborder=\"0\"\n",
              "            allowfullscreen\n",
              "        ></iframe>\n",
              "        "
            ]
          },
          "metadata": {}
        }
      ]
    }
  ],
  "metadata": {
    "colab": {
      "collapsed_sections": [],
      "name": "Untitled2.ipynb",
      "provenance": [],
      "authorship_tag": "ABX9TyN87SxkXJnCP3q8Fg1y1OQ7",
      "include_colab_link": true
    },
    "kernelspec": {
      "display_name": "Python 3",
      "name": "python3"
    },
    "language_info": {
      "name": "python"
    }
  },
  "nbformat": 4,
  "nbformat_minor": 0
}